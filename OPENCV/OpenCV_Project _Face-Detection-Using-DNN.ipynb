{
 "cells": [
  {
   "cell_type": "code",
   "execution_count": 1,
   "id": "d5e86d9c",
   "metadata": {},
   "outputs": [],
   "source": [
    "import numpy as np\n",
    "import cv2\n",
    "import os"
   ]
  },
  {
   "cell_type": "code",
   "execution_count": 2,
   "id": "151dbc52",
   "metadata": {},
   "outputs": [
    {
     "data": {
      "text/plain": [
       "'C:\\\\Users\\\\osama'"
      ]
     },
     "execution_count": 2,
     "metadata": {},
     "output_type": "execute_result"
    }
   ],
   "source": [
    "os.getcwd()"
   ]
  },
  {
   "cell_type": "code",
   "execution_count": 3,
   "id": "83bf6b2b",
   "metadata": {},
   "outputs": [],
   "source": [
    "os.chdir('C:/Digital Engineering/openCV/Project_FaceDetection_with_DNN_opencv')"
   ]
  },
  {
   "cell_type": "code",
   "execution_count": 26,
   "id": "f77fcdde",
   "metadata": {},
   "outputs": [],
   "source": [
    "img=cv2.imread('faces.jpg')\n",
    "cv2.imshow('face',img)\n",
    "cv2.waitKey(0)\n",
    "cv2.destroyAllWindows()"
   ]
  },
  {
   "cell_type": "code",
   "execution_count": 27,
   "id": "da35d339",
   "metadata": {},
   "outputs": [],
   "source": [
    "face_detection_model=cv2.dnn.readNetFromCaffe('./models/deploy.prototxt.txt',\n",
    "                                              './models/res10_300x300_ssd_iter_140000_fp16.caffemodel')"
   ]
  },
  {
   "cell_type": "code",
   "execution_count": 5,
   "id": "2df45c6a",
   "metadata": {},
   "outputs": [],
   "source": [
    "def face_detection_dnn(img):\n",
    "\n",
    "    #step-1 : blob from images\n",
    "    blob= cv2.dnn.blobFromImage(img,1,(300,300),(104,177,123),swapRB=True)\n",
    "    #step-2 : set blob as input\n",
    "    face_detection_model.setInput(blob)\n",
    "    #step-3 : get the output\n",
    "    detections=face_detection_model.forward()\n",
    "    #drawing bounding box on top of the face detected\n",
    "\n",
    "    image=img.copy()\n",
    "    h,w=image.shape[:2]\n",
    "    for i in range (0,detections.shape[2]):\n",
    "        confidence=detections[0,0,i,2]\n",
    "        if confidence>0.5:\n",
    "            #diagnol points 3:7\n",
    "            box=detections[0,0,i,3:7]*np.array([w,h,w,h])\n",
    "            box=box.astype('int')\n",
    "            pt1=(box[0],box[1])\n",
    "            pt2=(box[2],box[3])\n",
    "\n",
    "            #draw rectangle\n",
    "            cv2.rectangle(image,pt1,pt2,(0,255,0),1)\n",
    "\n",
    "            text='score : {:.0f} %'.format(confidence*100)\n",
    "            cv2.putText(image,text,pt1,cv2.FONT_HERSHEY_SIMPLEX,1,(255,255,255),2)\n",
    "            \n",
    "    return image\n",
    "    "
   ]
  },
  {
   "cell_type": "code",
   "execution_count": null,
   "id": "1c960be5",
   "metadata": {},
   "outputs": [],
   "source": [
    "img_detect=face_detection_dnn(img)\n",
    "cv2.imshow('image',img_detect)\n",
    "cv2.waitKey(0)\n",
    "cv2.destroyAllWindows()"
   ]
  },
  {
   "cell_type": "code",
   "execution_count": null,
   "id": "6c366016",
   "metadata": {},
   "outputs": [],
   "source": []
  },
  {
   "cell_type": "code",
   "execution_count": 18,
   "id": "b7b5fa41",
   "metadata": {},
   "outputs": [
    {
     "data": {
      "text/plain": [
       "200"
      ]
     },
     "execution_count": 18,
     "metadata": {},
     "output_type": "execute_result"
    }
   ],
   "source": [
    "detections.shape[2]"
   ]
  },
  {
   "cell_type": "code",
   "execution_count": 15,
   "id": "97b190b1",
   "metadata": {},
   "outputs": [
    {
     "data": {
      "text/plain": [
       "array([[[[0.        , 1.        , 0.99828076, ..., 0.13435292,\n",
       "          0.3774765 , 0.6368809 ],\n",
       "         [0.        , 1.        , 0.93064004, ..., 0.17351156,\n",
       "          0.66801995, 0.6749055 ],\n",
       "         [0.        , 1.        , 0.66491354, ..., 0.14685212,\n",
       "          0.9633989 , 0.5360528 ],\n",
       "         ...,\n",
       "         [0.        , 0.        , 0.        , ..., 0.        ,\n",
       "          0.        , 0.        ],\n",
       "         [0.        , 0.        , 0.        , ..., 0.        ,\n",
       "          0.        , 0.        ],\n",
       "         [0.        , 0.        , 0.        , ..., 0.        ,\n",
       "          0.        , 0.        ]]]], dtype=float32)"
      ]
     },
     "execution_count": 15,
     "metadata": {},
     "output_type": "execute_result"
    }
   ],
   "source": [
    "detections"
   ]
  },
  {
   "cell_type": "code",
   "execution_count": 16,
   "id": "9fdfcd35",
   "metadata": {},
   "outputs": [
    {
     "data": {
      "text/plain": [
       "(1, 1, 200, 7)"
      ]
     },
     "execution_count": 16,
     "metadata": {},
     "output_type": "execute_result"
    }
   ],
   "source": [
    "detections.shape"
   ]
  },
  {
   "cell_type": "markdown",
   "id": "9206db5e",
   "metadata": {},
   "source": [
    "## Real Time Face Detection"
   ]
  },
  {
   "cell_type": "code",
   "execution_count": 14,
   "id": "5bc97667",
   "metadata": {},
   "outputs": [],
   "source": [
    "cap=cv2.VideoCapture(0)\n",
    "\n",
    "face_detection_model=cv2.dnn.readNetFromCaffe('./models/deploy.prototxt.txt',\n",
    "                                              './models/res10_300x300_ssd_iter_140000_fp16.caffemodel')"
   ]
  },
  {
   "cell_type": "code",
   "execution_count": 15,
   "id": "c1dc6e32",
   "metadata": {},
   "outputs": [],
   "source": [
    "while True:\n",
    "    ret, frame= cap.read()\n",
    "    \n",
    "    if ret==False:\n",
    "        break\n",
    "    \n",
    "    img_detect= face_detection_dnn(frame)\n",
    "    \n",
    "    cv2.imshow('Real Time Face Detection', img_detect)\n",
    "    \n",
    "    if cv2.waitKey(1)==ord('q'):\n",
    "        break\n",
    "\n",
    "cap.release()\n",
    "cv2.destroyAllWindows()\n",
    "    \n",
    "   "
   ]
  },
  {
   "cell_type": "code",
   "execution_count": null,
   "id": "37d3553c",
   "metadata": {},
   "outputs": [],
   "source": []
  },
  {
   "cell_type": "code",
   "execution_count": null,
   "id": "efc5f0e8",
   "metadata": {},
   "outputs": [],
   "source": []
  }
 ],
 "metadata": {
  "kernelspec": {
   "display_name": "Python 3",
   "language": "python",
   "name": "python3"
  },
  "language_info": {
   "codemirror_mode": {
    "name": "ipython",
    "version": 3
   },
   "file_extension": ".py",
   "mimetype": "text/x-python",
   "name": "python",
   "nbconvert_exporter": "python",
   "pygments_lexer": "ipython3",
   "version": "3.8.8"
  }
 },
 "nbformat": 4,
 "nbformat_minor": 5
}
