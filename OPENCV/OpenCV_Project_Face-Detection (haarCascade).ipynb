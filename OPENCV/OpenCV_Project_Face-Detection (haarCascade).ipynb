{
 "cells": [
  {
   "cell_type": "code",
   "execution_count": 4,
   "id": "c0c4e70c",
   "metadata": {},
   "outputs": [],
   "source": [
    "import os"
   ]
  },
  {
   "cell_type": "code",
   "execution_count": 5,
   "id": "f77d4efa",
   "metadata": {},
   "outputs": [
    {
     "data": {
      "text/plain": [
       "'C:\\\\Digital Engineering\\\\openCV\\\\Project_FaceDetection_with_opencv'"
      ]
     },
     "execution_count": 5,
     "metadata": {},
     "output_type": "execute_result"
    }
   ],
   "source": [
    "os.getcwd()"
   ]
  },
  {
   "cell_type": "code",
   "execution_count": 6,
   "id": "4871dcea",
   "metadata": {},
   "outputs": [],
   "source": [
    "os.chdir('C:/Digital Engineering/openCV/Project_FaceDetection_with_opencv')"
   ]
  },
  {
   "cell_type": "code",
   "execution_count": 7,
   "id": "eada7431",
   "metadata": {},
   "outputs": [],
   "source": [
    "import numpy as np\n",
    "import cv2"
   ]
  },
  {
   "cell_type": "code",
   "execution_count": 8,
   "id": "27c5e183",
   "metadata": {},
   "outputs": [],
   "source": [
    "img=cv2.imread('./faces.jpg')"
   ]
  },
  {
   "cell_type": "code",
   "execution_count": 9,
   "id": "e8ad63dd",
   "metadata": {},
   "outputs": [],
   "source": [
    "face_cascade=cv2.CascadeClassifier('./model/haarcascade_frontalface_default.xml')"
   ]
  },
  {
   "cell_type": "code",
   "execution_count": 10,
   "id": "1f4eb6e0",
   "metadata": {},
   "outputs": [],
   "source": [
    "def face_detection(img):\n",
    "    \n",
    "    image=img.copy()\n",
    "    \n",
    "    #step-1:convert image to gray scale\n",
    "    gray=cv2.cvtColor(img,cv2.COLOR_BGR2GRAY)\n",
    "    #step-2: apply gray scale image to cascade classifier\n",
    "    box,detections=face_cascade.detectMultiScale2(gray, minNeighbors=8)\n",
    "    \n",
    "    for x,y,w,h in box:\n",
    "        cv2.rectangle(image,(x,y),(x+w,y+h),(0,255,0),1)\n",
    "        \n",
    "    return image"
   ]
  },
  {
   "cell_type": "code",
   "execution_count": 11,
   "id": "3236f8ea",
   "metadata": {},
   "outputs": [],
   "source": [
    "image_detect=face_detection(img)\n",
    "cv2.imshow('face_detection',image_detect)\n",
    "cv2.waitKey(0)\n",
    "cv2.destroyAllWindows()"
   ]
  },
  {
   "cell_type": "code",
   "execution_count": null,
   "id": "e934c7a5",
   "metadata": {},
   "outputs": [],
   "source": []
  },
  {
   "cell_type": "code",
   "execution_count": 13,
   "id": "b9ebc4de",
   "metadata": {},
   "outputs": [
    {
     "data": {
      "text/plain": [
       "array([[321,  84, 385, 385],\n",
       "       [697, 107, 248, 248],\n",
       "       [ 88,  75, 316, 316]], dtype=int32)"
      ]
     },
     "execution_count": 13,
     "metadata": {},
     "output_type": "execute_result"
    }
   ],
   "source": [
    "box"
   ]
  },
  {
   "cell_type": "code",
   "execution_count": 14,
   "id": "710f61f0",
   "metadata": {},
   "outputs": [
    {
     "data": {
      "text/plain": [
       "array([[35],\n",
       "       [37],\n",
       "       [10]], dtype=int32)"
      ]
     },
     "execution_count": 14,
     "metadata": {},
     "output_type": "execute_result"
    }
   ],
   "source": [
    "detections"
   ]
  },
  {
   "cell_type": "markdown",
   "id": "62b47d53",
   "metadata": {},
   "source": [
    "## Real time Face Detection"
   ]
  },
  {
   "cell_type": "code",
   "execution_count": 1,
   "id": "42768c13",
   "metadata": {},
   "outputs": [],
   "source": [
    "import numpy as np\n",
    "import cv2\n",
    "import os\n",
    "\n",
    "os.chdir('C:/Digital Engineering/openCV/Project_FaceDetection_with_opencv')\n",
    "\n",
    "cap=cv2.VideoCapture(0)\n",
    "face_cascade=cv2.CascadeClassifier('./model/haarcascade_frontalface_default.xml')"
   ]
  },
  {
   "cell_type": "code",
   "execution_count": 2,
   "id": "26a0e37a",
   "metadata": {},
   "outputs": [],
   "source": [
    "def face_detection(img):\n",
    "    \n",
    "    image=img.copy()\n",
    "    \n",
    "    #step-1:convert image to gray scale\n",
    "    gray=cv2.cvtColor(img,cv2.COLOR_BGR2GRAY)\n",
    "    #step-2: apply gray scale image to cascade classifier\n",
    "    box,detections=face_cascade.detectMultiScale2(gray, minNeighbors=8)\n",
    "    \n",
    "    for x,y,w,h in box:\n",
    "        cv2.rectangle(image,(x,y),(x+w,y+h),(0,255,0),1)\n",
    "        \n",
    "    return image"
   ]
  },
  {
   "cell_type": "code",
   "execution_count": 3,
   "id": "8a439f06",
   "metadata": {},
   "outputs": [],
   "source": [
    "while True:\n",
    "    ret, frame= cap.read()\n",
    "    if ret==False:\n",
    "        break\n",
    "        \n",
    "    img_detect=face_detection(frame)\n",
    "    cv2.imshow('Real time Face Detection',img_detect)\n",
    "    \n",
    "    if cv2.waitKey(1)==ord('q'):\n",
    "        break\n",
    "\n",
    "cap.release()\n",
    "cv2.destroyAllWindows()\n",
    "    "
   ]
  },
  {
   "cell_type": "code",
   "execution_count": null,
   "id": "3982e039",
   "metadata": {},
   "outputs": [],
   "source": []
  }
 ],
 "metadata": {
  "kernelspec": {
   "display_name": "Python 3",
   "language": "python",
   "name": "python3"
  },
  "language_info": {
   "codemirror_mode": {
    "name": "ipython",
    "version": 3
   },
   "file_extension": ".py",
   "mimetype": "text/x-python",
   "name": "python",
   "nbconvert_exporter": "python",
   "pygments_lexer": "ipython3",
   "version": "3.8.8"
  }
 },
 "nbformat": 4,
 "nbformat_minor": 5
}
