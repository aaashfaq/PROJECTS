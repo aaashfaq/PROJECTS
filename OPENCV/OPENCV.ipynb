{
 "cells": [
  {
   "cell_type": "code",
   "execution_count": 2,
   "id": "fc440f47",
   "metadata": {},
   "outputs": [
    {
     "data": {
      "text/plain": [
       "'C:\\\\Users\\\\osama'"
      ]
     },
     "execution_count": 2,
     "metadata": {},
     "output_type": "execute_result"
    }
   ],
   "source": [
    "import os\n",
    "os.getcwd()"
   ]
  },
  {
   "cell_type": "code",
   "execution_count": 35,
   "id": "49e0c82a",
   "metadata": {},
   "outputs": [],
   "source": [
    "os.chdir('C:/Digital Engineering/openCV/01_Image_Basics/images')"
   ]
  },
  {
   "cell_type": "code",
   "execution_count": 36,
   "id": "253c7ded",
   "metadata": {},
   "outputs": [],
   "source": [
    "import cv2"
   ]
  },
  {
   "cell_type": "code",
   "execution_count": 37,
   "id": "b43f2395",
   "metadata": {},
   "outputs": [],
   "source": [
    "img=cv2.imread('flemingo.jpg')"
   ]
  },
  {
   "cell_type": "code",
   "execution_count": 38,
   "id": "1706c9fc",
   "metadata": {},
   "outputs": [
    {
     "data": {
      "text/plain": [
       "(640, 640, 3)"
      ]
     },
     "execution_count": 38,
     "metadata": {},
     "output_type": "execute_result"
    }
   ],
   "source": [
    "img.shape"
   ]
  },
  {
   "cell_type": "code",
   "execution_count": 39,
   "id": "c5d7f189",
   "metadata": {},
   "outputs": [],
   "source": [
    "#cv2.resize(img,(640,640))\n",
    "cv2.imshow('flamingo',img)\n",
    "cv2.waitKey(10000)\n",
    "cv2.destroyAllWindows()"
   ]
  },
  {
   "cell_type": "code",
   "execution_count": 40,
   "id": "1537d998",
   "metadata": {},
   "outputs": [
    {
     "data": {
      "text/plain": [
       "True"
      ]
     },
     "execution_count": 40,
     "metadata": {},
     "output_type": "execute_result"
    }
   ],
   "source": [
    "cv2.imwrite('./flamingo2.png',img)"
   ]
  },
  {
   "cell_type": "markdown",
   "id": "7d651be6",
   "metadata": {},
   "source": [
    "## Splitting Color "
   ]
  },
  {
   "cell_type": "code",
   "execution_count": 41,
   "id": "b4efdb8e",
   "metadata": {},
   "outputs": [],
   "source": [
    "b,g,r=cv2.split(img)"
   ]
  },
  {
   "cell_type": "code",
   "execution_count": 42,
   "id": "95ebeb93",
   "metadata": {},
   "outputs": [
    {
     "data": {
      "text/plain": [
       "array([[188, 189, 189, ..., 188, 188, 188],\n",
       "       [188, 189, 189, ..., 188, 188, 188],\n",
       "       [188, 189, 189, ..., 188, 188, 188],\n",
       "       ...,\n",
       "       [167, 167, 167, ..., 177, 177, 177],\n",
       "       [171, 171, 172, ..., 177, 177, 177],\n",
       "       [177, 177, 178, ..., 177, 177, 177]], dtype=uint8)"
      ]
     },
     "execution_count": 42,
     "metadata": {},
     "output_type": "execute_result"
    }
   ],
   "source": [
    "b"
   ]
  },
  {
   "cell_type": "code",
   "execution_count": 43,
   "id": "aae4870e",
   "metadata": {},
   "outputs": [
    {
     "data": {
      "text/plain": [
       "array([[163, 164, 164, ..., 163, 163, 163],\n",
       "       [163, 164, 164, ..., 163, 163, 163],\n",
       "       [163, 164, 164, ..., 163, 163, 163],\n",
       "       ...,\n",
       "       [134, 134, 134, ..., 144, 144, 144],\n",
       "       [141, 141, 142, ..., 144, 144, 144],\n",
       "       [147, 147, 148, ..., 144, 144, 144]], dtype=uint8)"
      ]
     },
     "execution_count": 43,
     "metadata": {},
     "output_type": "execute_result"
    }
   ],
   "source": [
    "g"
   ]
  },
  {
   "cell_type": "code",
   "execution_count": 46,
   "id": "bffd2142",
   "metadata": {},
   "outputs": [],
   "source": [
    "cv2.imshow('color',img)\n",
    "cv2.imshow('blue',b)\n",
    "cv2.imshow('green',g)\n",
    "cv2.imshow('red',r)\n",
    "cv2.waitKey(10000)\n",
    "cv2.destroyAllWindows()"
   ]
  },
  {
   "cell_type": "markdown",
   "id": "0a9b68d2",
   "metadata": {},
   "source": [
    "## Color Converter"
   ]
  },
  {
   "cell_type": "code",
   "execution_count": 54,
   "id": "fe803d51",
   "metadata": {},
   "outputs": [],
   "source": [
    "img_rgb=cv2.cvtColor(img, cv2.COLOR_BGR2RGB)"
   ]
  },
  {
   "cell_type": "code",
   "execution_count": 55,
   "id": "1f08c3a2",
   "metadata": {},
   "outputs": [],
   "source": [
    "#gray scale\n",
    "img_gray=cv2.cvtColor(img, cv2.COLOR_BGR2GRAY)"
   ]
  },
  {
   "cell_type": "code",
   "execution_count": 56,
   "id": "e3ca1e9c",
   "metadata": {},
   "outputs": [],
   "source": [
    "cv2.imshow(\"bgr\",img)\n",
    "cv2.imshow(\"rgb\",img_rgb)\n",
    "cv2.imshow(\"gray\",img_gray)\n",
    "cv2.waitKey()\n",
    "cv2.destroyAllWindows()"
   ]
  },
  {
   "cell_type": "code",
   "execution_count": 58,
   "id": "fea24ad3",
   "metadata": {},
   "outputs": [
    {
     "data": {
      "text/plain": [
       "True"
      ]
     },
     "execution_count": 58,
     "metadata": {},
     "output_type": "execute_result"
    }
   ],
   "source": [
    "cv2.imwrite('Gray.png',img_gray)"
   ]
  },
  {
   "cell_type": "markdown",
   "id": "82ebe9ce",
   "metadata": {},
   "source": [
    "## Accessing and Manipulating images"
   ]
  },
  {
   "cell_type": "code",
   "execution_count": 59,
   "id": "4ae45ff3",
   "metadata": {},
   "outputs": [],
   "source": [
    "import numpy as np\n",
    "import cv2"
   ]
  },
  {
   "cell_type": "code",
   "execution_count": 60,
   "id": "438df648",
   "metadata": {},
   "outputs": [],
   "source": [
    "img=cv2.imread('./bird.jpg')"
   ]
  },
  {
   "cell_type": "code",
   "execution_count": 61,
   "id": "284799ea",
   "metadata": {},
   "outputs": [],
   "source": [
    "def display(winname,image):\n",
    "    cv2.imshow(winname,image)\n",
    "    cv2.waitKey()\n",
    "    cv2.destroyAllWindows()"
   ]
  },
  {
   "cell_type": "code",
   "execution_count": 62,
   "id": "562dd3e7",
   "metadata": {},
   "outputs": [],
   "source": [
    "display('winname',img)"
   ]
  },
  {
   "cell_type": "code",
   "execution_count": 63,
   "id": "681dbef5",
   "metadata": {},
   "outputs": [
    {
     "data": {
      "text/plain": [
       "array([[[ 88, 188, 253],\n",
       "        [ 88, 188, 253],\n",
       "        [ 88, 188, 253],\n",
       "        ...,\n",
       "        [ 45, 137, 214],\n",
       "        [ 45, 137, 214],\n",
       "        [ 44, 136, 213]],\n",
       "\n",
       "       [[ 88, 188, 253],\n",
       "        [ 88, 188, 253],\n",
       "        [ 88, 188, 253],\n",
       "        ...,\n",
       "        [ 45, 137, 214],\n",
       "        [ 45, 137, 214],\n",
       "        [ 45, 137, 214]],\n",
       "\n",
       "       [[ 88, 188, 253],\n",
       "        [ 88, 188, 253],\n",
       "        [ 88, 188, 253],\n",
       "        ...,\n",
       "        [ 46, 138, 215],\n",
       "        [ 45, 137, 214],\n",
       "        [ 45, 137, 214]],\n",
       "\n",
       "       ...,\n",
       "\n",
       "       [[ 73, 170, 226],\n",
       "        [ 72, 169, 225],\n",
       "        [ 70, 170, 225],\n",
       "        ...,\n",
       "        [  1,  36,  50],\n",
       "        [ 29,  77,  95],\n",
       "        [ 67, 120, 140]],\n",
       "\n",
       "       [[ 73, 170, 226],\n",
       "        [ 73, 170, 226],\n",
       "        [ 70, 170, 225],\n",
       "        ...,\n",
       "        [  0,  32,  46],\n",
       "        [ 11,  61,  81],\n",
       "        [ 29,  83, 106]],\n",
       "\n",
       "       [[ 75, 172, 228],\n",
       "        [ 73, 170, 226],\n",
       "        [ 72, 170, 224],\n",
       "        ...,\n",
       "        [  0,  33,  50],\n",
       "        [  2,  51,  77],\n",
       "        [ 94, 148, 178]]], dtype=uint8)"
      ]
     },
     "execution_count": 63,
     "metadata": {},
     "output_type": "execute_result"
    }
   ],
   "source": [
    "img"
   ]
  },
  {
   "cell_type": "code",
   "execution_count": 64,
   "id": "128b0a46",
   "metadata": {},
   "outputs": [
    {
     "data": {
      "text/plain": [
       "numpy.ndarray"
      ]
     },
     "execution_count": 64,
     "metadata": {},
     "output_type": "execute_result"
    }
   ],
   "source": [
    "type(img)"
   ]
  },
  {
   "cell_type": "code",
   "execution_count": 65,
   "id": "132ea14c",
   "metadata": {},
   "outputs": [],
   "source": [
    "# access first 100 rows and first 100 columns\n",
    "corner=img[0:100,0:100]"
   ]
  },
  {
   "cell_type": "code",
   "execution_count": 66,
   "id": "cc0ee42c",
   "metadata": {},
   "outputs": [],
   "source": [
    "display('corner',corner)"
   ]
  },
  {
   "cell_type": "code",
   "execution_count": 69,
   "id": "621eb760",
   "metadata": {},
   "outputs": [],
   "source": [
    "# change first 100 rows and first 100 columns to green\n",
    "red=(0,0,255)\n",
    "img[0:100,0:100]=red"
   ]
  },
  {
   "cell_type": "code",
   "execution_count": 70,
   "id": "6666c3d8",
   "metadata": {},
   "outputs": [],
   "source": [
    "display('redcorner',img)"
   ]
  },
  {
   "cell_type": "markdown",
   "id": "949df9c4",
   "metadata": {},
   "source": [
    "## Drawing a line"
   ]
  },
  {
   "cell_type": "code",
   "execution_count": 1,
   "id": "44bac317",
   "metadata": {},
   "outputs": [],
   "source": [
    "import numpy as np\n",
    "import cv2"
   ]
  },
  {
   "cell_type": "code",
   "execution_count": 3,
   "id": "63722b0d",
   "metadata": {},
   "outputs": [],
   "source": [
    "canvas=np.zeros((300,300,3),dtype='uint8')"
   ]
  },
  {
   "cell_type": "code",
   "execution_count": 4,
   "id": "77269212",
   "metadata": {},
   "outputs": [],
   "source": [
    "def display(winname,image):\n",
    "    cv2.imshow(winname, image)\n",
    "    cv2.waitKey(0)\n",
    "    cv2.destroyAllWindows()"
   ]
  },
  {
   "cell_type": "code",
   "execution_count": 5,
   "id": "b8422641",
   "metadata": {},
   "outputs": [],
   "source": [
    "display('canvas',canvas)"
   ]
  },
  {
   "cell_type": "code",
   "execution_count": 6,
   "id": "b3b47928",
   "metadata": {},
   "outputs": [],
   "source": [
    "green=(0,255,0)\n",
    "cv2.line(canvas,(0,0),(300,300),green)\n",
    "display('canvas',canvas)"
   ]
  },
  {
   "cell_type": "code",
   "execution_count": 8,
   "id": "488cfd7b",
   "metadata": {},
   "outputs": [],
   "source": [
    "red=(0,0,255)\n",
    "cv2.line(canvas,(300,0),(0,300),red,5)\n",
    "display('canvas',canvas)"
   ]
  },
  {
   "cell_type": "markdown",
   "id": "20330c4b",
   "metadata": {},
   "source": [
    "## drawing rectangle"
   ]
  },
  {
   "cell_type": "code",
   "execution_count": 9,
   "id": "eb034887",
   "metadata": {},
   "outputs": [],
   "source": [
    "cv2.rectangle(canvas,(10,10),(60,60),green)\n",
    "display('canvas',canvas)"
   ]
  },
  {
   "cell_type": "code",
   "execution_count": 10,
   "id": "de7a265f",
   "metadata": {},
   "outputs": [],
   "source": [
    "cv2.rectangle(canvas,(50,200),(200,225),red,5)\n",
    "display('canvas',canvas)"
   ]
  },
  {
   "cell_type": "code",
   "execution_count": 12,
   "id": "2800a015",
   "metadata": {},
   "outputs": [],
   "source": [
    "blue=(255,0,0)\n",
    "cv2.rectangle(canvas,(200,50),(225,200),blue,-1)\n",
    "display('canvas',canvas)"
   ]
  },
  {
   "cell_type": "markdown",
   "id": "627c46f6",
   "metadata": {},
   "source": [
    "## drawing circles"
   ]
  },
  {
   "cell_type": "code",
   "execution_count": 13,
   "id": "a3b59e93",
   "metadata": {},
   "outputs": [],
   "source": [
    "canvas=np.zeros((300,300,3),dtype='uint8')"
   ]
  },
  {
   "cell_type": "code",
   "execution_count": 17,
   "id": "525a20a6",
   "metadata": {},
   "outputs": [],
   "source": [
    "centerx,centery=(canvas.shape[1]//2,canvas.shape[0]//2)"
   ]
  },
  {
   "cell_type": "code",
   "execution_count": 19,
   "id": "5b860a9f",
   "metadata": {},
   "outputs": [],
   "source": [
    "white=(255,255,255)\n",
    "for r in range (0,175,25):\n",
    "    cv2.circle(canvas,(centerx,centery),r,white)\n",
    "display('canvas',canvas)"
   ]
  },
  {
   "cell_type": "markdown",
   "id": "69442e5e",
   "metadata": {},
   "source": [
    "## abstract drawing"
   ]
  },
  {
   "cell_type": "code",
   "execution_count": 32,
   "id": "7d5632d6",
   "metadata": {},
   "outputs": [],
   "source": [
    "for i in range(0,25):\n",
    "    \n",
    "    radius=np.random.randint(5,200)\n",
    "    color=np.random.randint(0,256,size=(3,)).tolist()\n",
    "    pt= np.random.randint(0,300,size=(2,))\n",
    "    \n",
    "    cv2.circle(canvas,tuple(pt),radius,color,-1)\n",
    "    \n",
    "    \n",
    "display('canvas',canvas)"
   ]
  },
  {
   "cell_type": "code",
   "execution_count": 34,
   "id": "b52399ca",
   "metadata": {},
   "outputs": [
    {
     "data": {
      "text/plain": [
       "True"
      ]
     },
     "execution_count": 34,
     "metadata": {},
     "output_type": "execute_result"
    }
   ],
   "source": [
    "cv2.imwrite('canvas.png',canvas)"
   ]
  },
  {
   "cell_type": "markdown",
   "id": "c27d3440",
   "metadata": {},
   "source": [
    "# Working in Videos"
   ]
  },
  {
   "cell_type": "code",
   "execution_count": null,
   "id": "e1eb6824",
   "metadata": {},
   "outputs": [],
   "source": []
  },
  {
   "cell_type": "code",
   "execution_count": 3,
   "id": "f1a46043",
   "metadata": {},
   "outputs": [],
   "source": [
    "import os\n",
    "os.chdir('C:/Digital Engineering/openCV/03_Working_on_Videos/data')\n"
   ]
  },
  {
   "cell_type": "code",
   "execution_count": 13,
   "id": "a2bc1ced",
   "metadata": {},
   "outputs": [],
   "source": [
    "import numpy as np\n",
    "import cv2\n",
    "import time"
   ]
  },
  {
   "cell_type": "code",
   "execution_count": 14,
   "id": "7d61691b",
   "metadata": {},
   "outputs": [],
   "source": [
    "cap=cv2.VideoCapture('./clip.mp4')"
   ]
  },
  {
   "cell_type": "code",
   "execution_count": 17,
   "id": "ba8f36fa",
   "metadata": {},
   "outputs": [],
   "source": [
    "fps=0\n",
    "\n",
    "while True:\n",
    "    start_time=time.time() #start time\n",
    "    ret,frame=cap.read()\n",
    "    \n",
    "    cv2.putText(frame,'FPS: {:.0f}'.format(fps),(30,40),cv2.FONT_HERSHEY_SIMPLEX,1.5,(255,255,255),1)\n",
    "    if ret== False:\n",
    "        break\n",
    "    cv2.imshow('video',frame)\n",
    "    if cv2.waitKey(41)== ord('q'):\n",
    "        break\n",
    "    time_take=start_time-time.time() #time taken\n",
    "    \n",
    "    fps=1/time_take  #frame per second\n",
    "    \n",
    "cap.release()\n",
    "cv2.destroyAllWindows()\n",
    "    "
   ]
  },
  {
   "cell_type": "markdown",
   "id": "9cab85b6",
   "metadata": {},
   "source": [
    "## Accessing Web Caemra"
   ]
  },
  {
   "cell_type": "code",
   "execution_count": 18,
   "id": "605a8f2b",
   "metadata": {},
   "outputs": [],
   "source": [
    "import numpy as np\n",
    "import cv2\n",
    "import time"
   ]
  },
  {
   "cell_type": "code",
   "execution_count": 24,
   "id": "66d76486",
   "metadata": {},
   "outputs": [],
   "source": [
    "cap=cv2.VideoCapture(0) # 0,1,2,......\n",
    "#cap1=cv2.VideoCapture(0)\n",
    "fps=0"
   ]
  },
  {
   "cell_type": "code",
   "execution_count": 25,
   "id": "da7758f5",
   "metadata": {},
   "outputs": [],
   "source": [
    "while True:\n",
    "    start_time=time.time() #start time\n",
    "    ret,frame=cap.read()\n",
    "    #ret,frame1=cap1.read()\n",
    "    \n",
    "    cv2.putText(frame,'FPS: {:.0f}'.format(fps),(30,40),cv2.FONT_HERSHEY_SIMPLEX,1.5,(255,255,255),1)\n",
    "   # cv2.putText(frame1,'FPS: {:.0f}'.format(fps),(30,40),cv2.FONT_HERSHEY_SIMPLEX,1.5,(255,255,255),1)\n",
    "    if ret== False:\n",
    "        break\n",
    "    cv2.imshow('video',frame)\n",
    "    #cv2.imshow('camera1',frame1)\n",
    "    \n",
    "    if cv2.waitKey(1)== ord('q'):\n",
    "        break\n",
    "    time_take=start_time-time.time() #time taken\n",
    "    \n",
    "    fps=1/time_take  #frame per second\n",
    "    \n",
    "cap.release()\n",
    "cv2.destroyAllWindows()"
   ]
  },
  {
   "cell_type": "code",
   "execution_count": null,
   "id": "2f4c3f22",
   "metadata": {},
   "outputs": [],
   "source": []
  }
 ],
 "metadata": {
  "kernelspec": {
   "display_name": "Python 3",
   "language": "python",
   "name": "python3"
  },
  "language_info": {
   "codemirror_mode": {
    "name": "ipython",
    "version": 3
   },
   "file_extension": ".py",
   "mimetype": "text/x-python",
   "name": "python",
   "nbconvert_exporter": "python",
   "pygments_lexer": "ipython3",
   "version": "3.8.8"
  }
 },
 "nbformat": 4,
 "nbformat_minor": 5
}
