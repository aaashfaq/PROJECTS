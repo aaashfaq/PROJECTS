{
 "cells": [
  {
   "cell_type": "code",
   "execution_count": 1,
   "id": "98c5672f",
   "metadata": {},
   "outputs": [],
   "source": [
    "import numpy as np\n",
    "import cv2"
   ]
  },
  {
   "cell_type": "code",
   "execution_count": 2,
   "id": "5d051c47",
   "metadata": {},
   "outputs": [],
   "source": [
    "rectangle=np.zeros((300,300),dtype='uint8')\n",
    "cv2.rectangle(rectangle,(25,25),(275,275),255,-1)\n",
    "\n",
    "cv2.imshow('rectangle',rectangle)\n",
    "cv2.waitKey(0)\n",
    "cv2.destroyAllWindows()"
   ]
  },
  {
   "cell_type": "code",
   "execution_count": 3,
   "id": "5284198d",
   "metadata": {},
   "outputs": [],
   "source": [
    "circle=np.zeros((300,300),dtype='uint8')\n",
    "cv2.circle(circle,(150,150),150,255,-1)\n",
    "cv2.imshow('circle',circle)\n",
    "cv2.waitKey(0)\n",
    "cv2.destroyAllWindows()"
   ]
  },
  {
   "cell_type": "markdown",
   "id": "37553f29",
   "metadata": {},
   "source": [
    "## AND"
   ]
  },
  {
   "cell_type": "code",
   "execution_count": 4,
   "id": "0138c1dd",
   "metadata": {},
   "outputs": [],
   "source": [
    "img_and= cv2.bitwise_and(rectangle,circle)\n",
    "\n",
    "cv2.imshow('rectangle',rectangle)\n",
    "cv2.imshow('circle',circle)\n",
    "cv2.imshow('AND',img_and)\n",
    "cv2.waitKey(0)\n",
    "cv2.destroyAllWindows()"
   ]
  },
  {
   "cell_type": "markdown",
   "id": "3499fda1",
   "metadata": {},
   "source": [
    "## OR"
   ]
  },
  {
   "cell_type": "code",
   "execution_count": 5,
   "id": "fcbf8e38",
   "metadata": {},
   "outputs": [],
   "source": [
    "img_or= cv2.bitwise_or(rectangle,circle)\n",
    "\n",
    "cv2.imshow('rectangle',rectangle)\n",
    "cv2.imshow('circle',circle)\n",
    "cv2.imshow('OR',img_or)\n",
    "cv2.waitKey(0)\n",
    "cv2.destroyAllWindows()"
   ]
  },
  {
   "cell_type": "markdown",
   "id": "f51a5868",
   "metadata": {},
   "source": [
    "## NOT"
   ]
  },
  {
   "cell_type": "code",
   "execution_count": 6,
   "id": "4a84d43b",
   "metadata": {},
   "outputs": [],
   "source": [
    "img_not=cv2.bitwise_not(circle)\n",
    "\n",
    "cv2.imshow('circle',circle)\n",
    "cv2.imshow('NOT',img_not)\n",
    "cv2.waitKey(0)\n",
    "cv2.destroyAllWindows()\n"
   ]
  },
  {
   "cell_type": "markdown",
   "id": "efe06e36",
   "metadata": {},
   "source": [
    "## XOR"
   ]
  },
  {
   "cell_type": "code",
   "execution_count": null,
   "id": "4510fa66",
   "metadata": {},
   "outputs": [],
   "source": [
    "img_xor=cv2.bitwise_xor(rectangle,circle)\n",
    "\n",
    "cv2.imshow('rectangle',rectangle)\n",
    "cv2.imshow('circle',circle)\n",
    "cv2.imshow('XOR',img_xor)\n",
    "cv2.waitKey(0)\n",
    "cv2.destroyAllWindows()\n"
   ]
  },
  {
   "cell_type": "markdown",
   "id": "177afa24",
   "metadata": {},
   "source": [
    "## Masking"
   ]
  },
  {
   "cell_type": "code",
   "execution_count": 1,
   "id": "31ce6b8b",
   "metadata": {},
   "outputs": [],
   "source": [
    "import cv2\n",
    "import numpy as np\n",
    "import os"
   ]
  },
  {
   "cell_type": "code",
   "execution_count": 2,
   "id": "678c3841",
   "metadata": {},
   "outputs": [
    {
     "data": {
      "text/plain": [
       "'C:\\\\Users\\\\osama'"
      ]
     },
     "execution_count": 2,
     "metadata": {},
     "output_type": "execute_result"
    }
   ],
   "source": [
    "os.getcwd()"
   ]
  },
  {
   "cell_type": "code",
   "execution_count": 3,
   "id": "57aaa56c",
   "metadata": {},
   "outputs": [],
   "source": [
    "os.chdir('C:/Digital Engineering/openCV/07_Masking')"
   ]
  },
  {
   "cell_type": "code",
   "execution_count": 4,
   "id": "6c76107b",
   "metadata": {},
   "outputs": [],
   "source": [
    "img=cv2.imread('./images/beach.jpg')\n",
    "\n",
    "cv2.imshow('Beach',img)\n",
    "cv2.waitKey(0)\n",
    "cv2.destroyAllWindows()"
   ]
  },
  {
   "cell_type": "code",
   "execution_count": 6,
   "id": "220e1462",
   "metadata": {},
   "outputs": [],
   "source": [
    "mask=np.zeros(img.shape[:2],dtype='uint8')\n",
    "\n",
    "cv2.imshow('Mask',mask)\n",
    "cv2.waitKey(0)\n",
    "cv2.destroyAllWindows()"
   ]
  },
  {
   "cell_type": "code",
   "execution_count": 8,
   "id": "18268d74",
   "metadata": {},
   "outputs": [],
   "source": [
    "cx,cy= mask.shape[1]//2,mask.shape[0]//2\n",
    "\n",
    "cv2.rectangle(mask,(cx-200,cy-200),(cx+200,cy+200),255,-1)\n",
    "\n",
    "cv2.imshow('Mask',mask)\n",
    "cv2.waitKey(0)\n",
    "cv2.destroyAllWindows()"
   ]
  },
  {
   "cell_type": "code",
   "execution_count": 9,
   "id": "4470fad7",
   "metadata": {},
   "outputs": [],
   "source": [
    "img_mask=cv2.bitwise_and(img,img,mask=mask)\n",
    "\n",
    "cv2.imshow('orignal',img)\n",
    "cv2.imshow('masked image',img_mask)\n",
    "cv2.waitKey(0)\n",
    "cv2.destroyAllWindows()"
   ]
  },
  {
   "cell_type": "code",
   "execution_count": 12,
   "id": "84b8324d",
   "metadata": {},
   "outputs": [],
   "source": [
    "mask_not=cv2.bitwise_not(mask)\n",
    "cv2.imshow('masked image not',img_mask)\n",
    "cv2.waitKey(0)\n",
    "cv2.destroyAllWindows()"
   ]
  },
  {
   "cell_type": "code",
   "execution_count": 13,
   "id": "7255c90a",
   "metadata": {},
   "outputs": [],
   "source": [
    "img_mask_not=cv2.bitwise_and(img,img,mask=mask_not)\n",
    "\n",
    "cv2.imshow('masked image not',img_mask_not)\n",
    "cv2.waitKey(0)\n",
    "cv2.destroyAllWindows()"
   ]
  },
  {
   "cell_type": "code",
   "execution_count": 14,
   "id": "f3e666c6",
   "metadata": {},
   "outputs": [],
   "source": [
    "# circle\n",
    "\n",
    "mask_c=np.zeros(img.shape[:2],dtype='uint8')\n",
    "\n",
    "cx,cy=mask_c.shape[1]//2,mask_c.shape[0]//2\n",
    "\n",
    "cv2.circle(mask_c,(cx,cy),200,255,-1)\n",
    "\n",
    "cv2.imshow('masked_circle',mask_c)\n",
    "cv2.waitKey(0)\n",
    "cv2.destroyAllWindows()"
   ]
  },
  {
   "cell_type": "code",
   "execution_count": 15,
   "id": "c9b74074",
   "metadata": {},
   "outputs": [],
   "source": [
    "img_mask_circle=cv2.bitwise_and(img,img,mask=mask_c)\n",
    "\n",
    "cv2.imshow('masked circle',img_mask_circle)\n",
    "cv2.waitKey(0)\n",
    "cv2.destroyAllWindows()"
   ]
  },
  {
   "cell_type": "code",
   "execution_count": null,
   "id": "5da57b85",
   "metadata": {},
   "outputs": [],
   "source": []
  }
 ],
 "metadata": {
  "kernelspec": {
   "display_name": "Python 3",
   "language": "python",
   "name": "python3"
  },
  "language_info": {
   "codemirror_mode": {
    "name": "ipython",
    "version": 3
   },
   "file_extension": ".py",
   "mimetype": "text/x-python",
   "name": "python",
   "nbconvert_exporter": "python",
   "pygments_lexer": "ipython3",
   "version": "3.8.8"
  }
 },
 "nbformat": 4,
 "nbformat_minor": 5
}
