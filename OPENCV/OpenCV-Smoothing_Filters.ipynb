{
 "cells": [
  {
   "cell_type": "code",
   "execution_count": 2,
   "id": "6a421f0f",
   "metadata": {},
   "outputs": [],
   "source": [
    "import numpy as np\n",
    "import cv2\n",
    "import os"
   ]
  },
  {
   "cell_type": "code",
   "execution_count": 3,
   "id": "746388e8",
   "metadata": {},
   "outputs": [
    {
     "data": {
      "text/plain": [
       "'C:\\\\Users\\\\osama'"
      ]
     },
     "execution_count": 3,
     "metadata": {},
     "output_type": "execute_result"
    }
   ],
   "source": [
    "os.getcwd()"
   ]
  },
  {
   "cell_type": "code",
   "execution_count": 4,
   "id": "5098afc3",
   "metadata": {},
   "outputs": [],
   "source": [
    "os.chdir('C:/Digital Engineering/openCV/08_Smoothing_filters')"
   ]
  },
  {
   "cell_type": "code",
   "execution_count": 5,
   "id": "648c79c9",
   "metadata": {},
   "outputs": [],
   "source": [
    "img=cv2.imread('./images/beach.jpg')"
   ]
  },
  {
   "cell_type": "code",
   "execution_count": 6,
   "id": "00dcb991",
   "metadata": {},
   "outputs": [],
   "source": [
    "cv2.imshow('orignal',img)\n",
    "cv2.waitKey(0)\n",
    "cv2.destroyAllWindows()"
   ]
  },
  {
   "cell_type": "markdown",
   "id": "5960aa26",
   "metadata": {},
   "source": [
    "## Average Blur"
   ]
  },
  {
   "cell_type": "code",
   "execution_count": 7,
   "id": "1161858e",
   "metadata": {},
   "outputs": [],
   "source": [
    "blur_avg3=cv2.blur(img,(3,3))\n",
    "blur_avg5=cv2.blur(img,(5,5))\n",
    "blur_avg7=cv2.blur(img,(7,7))\n",
    "blur_avg9=cv2.blur(img,(9,9))"
   ]
  },
  {
   "cell_type": "code",
   "execution_count": 9,
   "id": "07f8248c",
   "metadata": {},
   "outputs": [],
   "source": [
    "cv2.imshow('orignal',img)\n",
    "cv2.imshow('blur_avg3',blur_avg3)\n",
    "cv2.imshow('blur_avg5',blur_avg5)\n",
    "cv2.imshow('blur_avg7',blur_avg7)\n",
    "cv2.imshow('blur_avg9',blur_avg9)\n",
    "\n",
    "cv2.waitKey(0)\n",
    "cv2.destroyAllWindows()"
   ]
  },
  {
   "cell_type": "markdown",
   "id": "cb3d9219",
   "metadata": {},
   "source": [
    "## Gaussian Blur"
   ]
  },
  {
   "cell_type": "code",
   "execution_count": 10,
   "id": "0f2f8fdf",
   "metadata": {},
   "outputs": [],
   "source": [
    "blur_gauss_3=cv2.GaussianBlur(img,(3,3),0)\n",
    "blur_gauss_5=cv2.GaussianBlur(img,(5,5),0)\n",
    "blur_gauss_7=cv2.GaussianBlur(img,(7,7),0)"
   ]
  },
  {
   "cell_type": "code",
   "execution_count": 12,
   "id": "70e57098",
   "metadata": {},
   "outputs": [],
   "source": [
    "cv2.imshow('orignal',img)\n",
    "cv2.imshow('blur_gauss_3',blur_gauss_3)\n",
    "cv2.imshow('blur_gauss_5',blur_gauss_5)\n",
    "cv2.imshow('blur_gauss_7',blur_gauss_7)\n",
    "\n",
    "cv2.waitKey(0)\n",
    "cv2.destroyAllWindows()"
   ]
  },
  {
   "cell_type": "markdown",
   "id": "d6c09c50",
   "metadata": {},
   "source": [
    "## Median Blur"
   ]
  },
  {
   "cell_type": "code",
   "execution_count": 17,
   "id": "1480d78a",
   "metadata": {},
   "outputs": [],
   "source": [
    "sp=cv2.imread('./images/sp_noise.jpg')\n",
    "\n",
    "cv2.imshow('orignal',sp)\n",
    "cv2.waitKey(0)\n",
    "cv2.destroyAllWindows()"
   ]
  },
  {
   "cell_type": "code",
   "execution_count": 20,
   "id": "ffe97e75",
   "metadata": {},
   "outputs": [],
   "source": [
    "blur_median_3=cv2.medianBlur(sp,3)\n",
    "blur_median_5=cv2.medianBlur(sp,5)\n",
    "blur_median_7=cv2.medianBlur(sp,7)"
   ]
  },
  {
   "cell_type": "code",
   "execution_count": 21,
   "id": "0f1ecf8c",
   "metadata": {},
   "outputs": [],
   "source": [
    "cv2.imshow('orignal',sp)\n",
    "cv2.imshow('blur_median_3',blur_median_3)\n",
    "cv2.imshow('blur_median_5',blur_median_5)\n",
    "cv2.imshow('blur_median_7',blur_median_7)\n",
    "\n",
    "cv2.waitKey(0)\n",
    "cv2.destroyAllWindows()"
   ]
  },
  {
   "cell_type": "code",
   "execution_count": null,
   "id": "a69e393a",
   "metadata": {},
   "outputs": [],
   "source": []
  }
 ],
 "metadata": {
  "kernelspec": {
   "display_name": "Python 3",
   "language": "python",
   "name": "python3"
  },
  "language_info": {
   "codemirror_mode": {
    "name": "ipython",
    "version": 3
   },
   "file_extension": ".py",
   "mimetype": "text/x-python",
   "name": "python",
   "nbconvert_exporter": "python",
   "pygments_lexer": "ipython3",
   "version": "3.8.8"
  }
 },
 "nbformat": 4,
 "nbformat_minor": 5
}
