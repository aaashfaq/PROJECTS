{
 "cells": [
  {
   "cell_type": "code",
   "execution_count": 1,
   "id": "63ace0e6",
   "metadata": {},
   "outputs": [],
   "source": [
    "import numpy as np\n",
    "import cv2\n",
    "import os"
   ]
  },
  {
   "cell_type": "code",
   "execution_count": 2,
   "id": "f97e0d20",
   "metadata": {},
   "outputs": [],
   "source": [
    "os.chdir('C:/Digital Engineering/openCV/Project_Pencil_sketch_GUI')"
   ]
  },
  {
   "cell_type": "code",
   "execution_count": 3,
   "id": "1f4e4418",
   "metadata": {},
   "outputs": [],
   "source": [
    "img= cv2.imread('./images/friends.jpg')\n",
    "cv2.imshow('orignal',img)\n",
    "cv2.waitKey(0)\n",
    "cv2.destroyAllWindows()"
   ]
  },
  {
   "cell_type": "markdown",
   "id": "e9953821",
   "metadata": {},
   "source": [
    "![image](images/pencil_sketch_flow.PNG)"
   ]
  },
  {
   "cell_type": "code",
   "execution_count": 5,
   "id": "15bae927",
   "metadata": {},
   "outputs": [],
   "source": [
    "def pencil_sketch(img,ksize,gamma):\n",
    "    \n",
    "    #step-1: Convert Image into Gray Scale\n",
    "    gray =cv2.cvtColor(img,cv2.COLOR_BGR2GRAY)\n",
    "    #step-2: Apply Gaussian blur to image\n",
    "    blur=cv2.GaussianBlur(gray,(ksize,ksize),0)\n",
    "    #step-3 : division image\n",
    "    division_img=cv2.divide(gray,blur,scale=256)\n",
    "    #adjusting gamma factor\n",
    "    \n",
    "    if gamma ==0:\n",
    "        gamma=0.01\n",
    "        \n",
    "    elif gamma <0:\n",
    "        raise Exception('Cannot be negative', 'Gamma value cannot be negative')\n",
    "        \n",
    "    elif gamma >1:\n",
    "        raise Exception('Cannot be greater than 1', 'Gamma value cannot be greater than 1 (0-1)')\n",
    "\n",
    "    invgamma=1/gamma\n",
    "    lut= np.array([((i/255)**invgamma)*255 for i in range (0,256)])\n",
    "    pencil_sketch_image=cv2.LUT(division_img.astype('uint8'), lut.astype('uint8'))\n",
    "    \n",
    "    return pencil_sketch_image"
   ]
  },
  {
   "cell_type": "code",
   "execution_count": 9,
   "id": "96972688",
   "metadata": {},
   "outputs": [],
   "source": [
    "cv2.imshow('orignal',img)\n",
    "cv2.imshow('gray',gray)\n",
    "cv2.imshow('blur',blur)\n",
    "cv2.imshow('division image',division_img)\n",
    "cv2.imshow('pencil_sketch',pencil_sketch_image)\n",
    "cv2.waitKey(0)\n",
    "cv2.destroyAllWindows()"
   ]
  },
  {
   "cell_type": "code",
   "execution_count": 13,
   "id": "fa3dca6b",
   "metadata": {},
   "outputs": [],
   "source": [
    "pencil_sketch_image=pencil_sketch(img,(5,5),0.1)\n",
    "cv2.imshow('orignal',img)\n",
    "cv2.imshow('pencil_sketch',pencil_sketch_image)\n",
    "\n",
    "cv2.waitKey(0)\n",
    "cv2.destroyAllWindows()"
   ]
  },
  {
   "cell_type": "markdown",
   "id": "2c598145",
   "metadata": {},
   "source": [
    "## GUI for Pencil Sketch"
   ]
  },
  {
   "cell_type": "code",
   "execution_count": 6,
   "id": "434e8f08",
   "metadata": {},
   "outputs": [],
   "source": [
    "image=cv2.imread('./images/ironman.jpg')\n",
    "\n",
    "# create control panel\n",
    "cv2.namedWindow('Control Panel')\n",
    "cv2.createTrackbar('ksize','Control Panel',1,100, (lambda x:None))\n",
    "cv2.createTrackbar('Gamma','Control Panel',1,100, (lambda x:None))\n",
    "\n",
    "while True:\n",
    "    \n",
    "    #take k-size\n",
    "    k=cv2.getTrackbarPos('ksize','Control Panel')\n",
    "    # k should be an odd number\n",
    "    k=2*k+1\n",
    "    #calibrate gamma to 0-1 scale\n",
    "    g= cv2.getTrackbarPos('Gamma','Control Panel')\n",
    "    g=g/100\n",
    "    \n",
    "    pencil_image=pencil_sketch(image,k,g)\n",
    "    \n",
    "    cv2.imshow('orignal',image)\n",
    "    cv2.imshow('pencil_sketch',pencil_image)\n",
    "    if cv2.waitKey(1) == 27:\n",
    "        break\n",
    "    \n",
    "cv2.destroyAllWindows()\n",
    "    "
   ]
  },
  {
   "cell_type": "code",
   "execution_count": null,
   "id": "abace042",
   "metadata": {},
   "outputs": [],
   "source": []
  }
 ],
 "metadata": {
  "kernelspec": {
   "display_name": "Python 3",
   "language": "python",
   "name": "python3"
  },
  "language_info": {
   "codemirror_mode": {
    "name": "ipython",
    "version": 3
   },
   "file_extension": ".py",
   "mimetype": "text/x-python",
   "name": "python",
   "nbconvert_exporter": "python",
   "pygments_lexer": "ipython3",
   "version": "3.8.8"
  }
 },
 "nbformat": 4,
 "nbformat_minor": 5
}
