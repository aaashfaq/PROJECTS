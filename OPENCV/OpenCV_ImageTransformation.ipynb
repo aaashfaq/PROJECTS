{
 "cells": [
  {
   "cell_type": "code",
   "execution_count": 1,
   "id": "ddb642a7",
   "metadata": {},
   "outputs": [],
   "source": [
    "import numpy as np\n",
    "import cv2\n",
    "import os"
   ]
  },
  {
   "cell_type": "code",
   "execution_count": 2,
   "id": "830ca451",
   "metadata": {},
   "outputs": [
    {
     "data": {
      "text/plain": [
       "'C:\\\\Users\\\\osama'"
      ]
     },
     "execution_count": 2,
     "metadata": {},
     "output_type": "execute_result"
    }
   ],
   "source": [
    "os.getcwd()"
   ]
  },
  {
   "cell_type": "code",
   "execution_count": 3,
   "id": "02cd7f65",
   "metadata": {},
   "outputs": [],
   "source": [
    "os.chdir('C:/Digital Engineering/openCV/04_Image_transformations/images')"
   ]
  },
  {
   "cell_type": "code",
   "execution_count": 4,
   "id": "0b67d571",
   "metadata": {},
   "outputs": [],
   "source": [
    "img=cv2.imread('./flemingo.jpg')"
   ]
  },
  {
   "cell_type": "code",
   "execution_count": 5,
   "id": "88df3d29",
   "metadata": {},
   "outputs": [],
   "source": [
    "def display(image,img):\n",
    "    cv2.imshow(image,img)\n",
    "    cv2.waitKey(0)\n",
    "    cv2.destroyAllWindows()"
   ]
  },
  {
   "cell_type": "code",
   "execution_count": 9,
   "id": "de4a28c9",
   "metadata": {},
   "outputs": [],
   "source": [
    "display('flamingo',img)"
   ]
  },
  {
   "cell_type": "markdown",
   "id": "d550bd2f",
   "metadata": {},
   "source": [
    "## Translation of image"
   ]
  },
  {
   "cell_type": "code",
   "execution_count": 13,
   "id": "651de8fe",
   "metadata": {},
   "outputs": [],
   "source": [
    "def translation(image,tx,ty):\n",
    "    M=np.float32([[1,0,tx],\n",
    "                 [0,1,ty]])\n",
    "    shifted_img=cv2.warpAffine(image,M,(image.shape[1],image.shape[0]))\n",
    "    \n",
    "    display('translated image',shifted_img)"
   ]
  },
  {
   "cell_type": "code",
   "execution_count": 14,
   "id": "c0d097e9",
   "metadata": {},
   "outputs": [],
   "source": [
    "translation(img,100,150)"
   ]
  },
  {
   "cell_type": "markdown",
   "id": "2600b73d",
   "metadata": {},
   "source": [
    "## Rotate Image"
   ]
  },
  {
   "cell_type": "code",
   "execution_count": 15,
   "id": "afb1c174",
   "metadata": {},
   "outputs": [],
   "source": [
    "def rotate(image,angle,scale):\n",
    "    \n",
    "    center=(image.shape[1]//2,image.shape[0]//2)\n",
    "    \n",
    "    M=cv2.getRotationMatrix2D(center,angle,scale)\n",
    "    \n",
    "    rotate_img=cv2.warpAffine(image,M,(image.shape[1],image.shape[0]))\n",
    "    \n",
    "    display('Rotated Image',rotate_img)"
   ]
  },
  {
   "cell_type": "code",
   "execution_count": 16,
   "id": "629f6199",
   "metadata": {},
   "outputs": [],
   "source": [
    "rotate(img,45,0.5)"
   ]
  },
  {
   "cell_type": "markdown",
   "id": "684bd48b",
   "metadata": {},
   "source": [
    "## Resizing Image"
   ]
  },
  {
   "cell_type": "code",
   "execution_count": 6,
   "id": "b3c86b8b",
   "metadata": {},
   "outputs": [
    {
     "data": {
      "text/plain": [
       "(640, 640, 3)"
      ]
     },
     "execution_count": 6,
     "metadata": {},
     "output_type": "execute_result"
    }
   ],
   "source": [
    "img.shape"
   ]
  },
  {
   "cell_type": "code",
   "execution_count": 15,
   "id": "5b73bf63",
   "metadata": {},
   "outputs": [],
   "source": [
    "img_resize=cv2.resize(img,(300,400),interpolation=cv2.INTER_AREA)"
   ]
  },
  {
   "cell_type": "code",
   "execution_count": 16,
   "id": "2cf14658",
   "metadata": {},
   "outputs": [],
   "source": [
    "display('image_resize',img_resize)"
   ]
  },
  {
   "cell_type": "markdown",
   "id": "20898ffc",
   "metadata": {},
   "source": [
    "## Flipping Image"
   ]
  },
  {
   "cell_type": "code",
   "execution_count": 19,
   "id": "3ff25753",
   "metadata": {},
   "outputs": [],
   "source": [
    "flip_img=cv2.flip(img,-1) # 1,-1,0"
   ]
  },
  {
   "cell_type": "code",
   "execution_count": 20,
   "id": "54c4a877",
   "metadata": {},
   "outputs": [],
   "source": [
    "display('flip',flip_img)\n",
    "display('orignal',img)"
   ]
  },
  {
   "cell_type": "markdown",
   "id": "e8665cc7",
   "metadata": {},
   "source": [
    "## Cropping Image"
   ]
  },
  {
   "cell_type": "code",
   "execution_count": 22,
   "id": "149e11ca",
   "metadata": {},
   "outputs": [
    {
     "data": {
      "text/plain": [
       "(640, 640, 3)"
      ]
     },
     "execution_count": 22,
     "metadata": {},
     "output_type": "execute_result"
    }
   ],
   "source": [
    "img.shape"
   ]
  },
  {
   "cell_type": "code",
   "execution_count": 23,
   "id": "9d722b49",
   "metadata": {},
   "outputs": [],
   "source": [
    "display('orignal',img)"
   ]
  },
  {
   "cell_type": "code",
   "execution_count": 34,
   "id": "3c34056c",
   "metadata": {},
   "outputs": [],
   "source": [
    "crop=img[70:560,150:460]\n",
    "display('crop',crop)"
   ]
  },
  {
   "cell_type": "code",
   "execution_count": null,
   "id": "15d95d71",
   "metadata": {},
   "outputs": [],
   "source": []
  }
 ],
 "metadata": {
  "kernelspec": {
   "display_name": "Python 3",
   "language": "python",
   "name": "python3"
  },
  "language_info": {
   "codemirror_mode": {
    "name": "ipython",
    "version": 3
   },
   "file_extension": ".py",
   "mimetype": "text/x-python",
   "name": "python",
   "nbconvert_exporter": "python",
   "pygments_lexer": "ipython3",
   "version": "3.8.8"
  }
 },
 "nbformat": 4,
 "nbformat_minor": 5
}
