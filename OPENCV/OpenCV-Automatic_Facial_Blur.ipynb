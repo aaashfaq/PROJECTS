{
 "cells": [
  {
   "cell_type": "code",
   "execution_count": 3,
   "id": "654a0f37",
   "metadata": {},
   "outputs": [],
   "source": [
    "import numpy as np\n",
    "import cv2\n",
    "import os"
   ]
  },
  {
   "cell_type": "code",
   "execution_count": 4,
   "id": "f4d4f45d",
   "metadata": {},
   "outputs": [],
   "source": [
    "os.chdir('C:/Digital Engineering/openCV/Project_Automatic_Face_Blur')"
   ]
  },
  {
   "cell_type": "code",
   "execution_count": 5,
   "id": "b696b422",
   "metadata": {},
   "outputs": [],
   "source": [
    "# Load image\n",
    "\n",
    "img=cv2.imread('./images/happy_parents.jpg')\n",
    "\n",
    "cv2.imshow('orignal',img)\n",
    "cv2.waitKey(0)\n",
    "cv2.destroyAllWindows()"
   ]
  },
  {
   "cell_type": "code",
   "execution_count": 6,
   "id": "dccaf526",
   "metadata": {},
   "outputs": [],
   "source": [
    "# Load face detection model\n",
    "face_detection_model= cv2.dnn.readNetFromCaffe('./model/deploy.prototxt.txt','./model/res10_300x300_ssd_iter_140000_fp16.caffemodel')"
   ]
  },
  {
   "cell_type": "code",
   "execution_count": 24,
   "id": "0fefe346",
   "metadata": {},
   "outputs": [],
   "source": [
    "def face_blur(img):\n",
    "    \n",
    "    # blob from image\n",
    "    image=img.copy()\n",
    "    #mask image\n",
    "    face_mask=np.zeros(image.shape[:2],dtype='uint8')\n",
    "\n",
    "    blob=cv2.dnn.blobFromImage(image,1,(300,300),(104,177,123),swapRB=True)\n",
    "    face_detection_model.setInput(blob)\n",
    "    detections=face_detection_model.forward()\n",
    "\n",
    "    h,w=image.shape[:2]\n",
    "    for i in range (detections.shape[2]):\n",
    "        confidence=detections[0,0,i,2]\n",
    "        if confidence>0.5:\n",
    "            box=detections[0,0,i,3:7]*np.array([w,h,w,h])\n",
    "            box=box.astype(int)\n",
    "            cv2.rectangle(face_mask,(box[0],box[1]),(box[2],box[3]),255,-1)\n",
    "\n",
    "\n",
    "    inverse_face_mask= cv2.bitwise_not(face_mask)\n",
    "\n",
    "    # Apply mask image to orignal image\n",
    "    bg_img=cv2.bitwise_and(image,image,mask=face_mask)\n",
    "    fg_img=cv2.bitwise_and(image,image,mask=inverse_face_mask)\n",
    "\n",
    "    # blur background image with Gaussian Blur\n",
    "    bg_img_blur=cv2.GaussianBlur(bg_img,(51,51),0)\n",
    "\n",
    "    # addition\n",
    "    face_blur=cv2.add(fg_img,bg_img_blur)\n",
    "    \n",
    "    return face_blur\n"
   ]
  },
  {
   "cell_type": "code",
   "execution_count": 25,
   "id": "66713db7",
   "metadata": {},
   "outputs": [
    {
     "data": {
      "text/plain": [
       "(1, 1, 200, 7)"
      ]
     },
     "execution_count": 25,
     "metadata": {},
     "output_type": "execute_result"
    }
   ],
   "source": [
    "detections.shape"
   ]
  },
  {
   "cell_type": "code",
   "execution_count": null,
   "id": "ee1d3851",
   "metadata": {},
   "outputs": [],
   "source": []
  },
  {
   "cell_type": "code",
   "execution_count": null,
   "id": "829c4afd",
   "metadata": {},
   "outputs": [],
   "source": [
    "cv2.imshow('face_mask',face_mask)\n",
    "cv2.imshow('inverse_face_mask',inverse_face_mask)\n",
    "cv2.imshow('backgroung',bg_img)\n",
    "cv2.imshow('foreground',fg_img)\n",
    "cv2.imshow('backgroung_blur',bg_img_blur)\n",
    "cv2.waitKey(0)\n",
    "cv2.destroyAllWindows()"
   ]
  },
  {
   "cell_type": "code",
   "execution_count": 26,
   "id": "b0ae1f4d",
   "metadata": {},
   "outputs": [],
   "source": [
    "\n",
    "face_blur_img=face_blur(img)\n",
    "cv2.imshow('face_blur',face_blur_img)\n",
    "cv2.waitKey(0)\n",
    "cv2.destroyAllWindows()"
   ]
  },
  {
   "cell_type": "code",
   "execution_count": null,
   "id": "4274d04f",
   "metadata": {},
   "outputs": [],
   "source": []
  }
 ],
 "metadata": {
  "kernelspec": {
   "display_name": "Python 3",
   "language": "python",
   "name": "python3"
  },
  "language_info": {
   "codemirror_mode": {
    "name": "ipython",
    "version": 3
   },
   "file_extension": ".py",
   "mimetype": "text/x-python",
   "name": "python",
   "nbconvert_exporter": "python",
   "pygments_lexer": "ipython3",
   "version": "3.8.8"
  }
 },
 "nbformat": 4,
 "nbformat_minor": 5
}
