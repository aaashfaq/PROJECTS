{
 "cells": [
  {
   "cell_type": "code",
   "execution_count": 1,
   "id": "6791a3d8",
   "metadata": {},
   "outputs": [],
   "source": [
    "import numpy as np\n",
    "import cv2\n",
    "import os"
   ]
  },
  {
   "cell_type": "code",
   "execution_count": 2,
   "id": "38f18671",
   "metadata": {},
   "outputs": [
    {
     "data": {
      "text/plain": [
       "'C:\\\\Users\\\\osama'"
      ]
     },
     "execution_count": 2,
     "metadata": {},
     "output_type": "execute_result"
    }
   ],
   "source": [
    "os.getcwd()"
   ]
  },
  {
   "cell_type": "code",
   "execution_count": 3,
   "id": "bfc2a549",
   "metadata": {},
   "outputs": [],
   "source": [
    "os.chdir('C:/Digital Engineering/openCV/Project_Controlling_brightness_with_GUI_using_opencv')"
   ]
  },
  {
   "cell_type": "code",
   "execution_count": 4,
   "id": "333fb37b",
   "metadata": {},
   "outputs": [],
   "source": [
    "img=cv2.imread('./images/car.jpg')\n",
    "cv2.imshow('orignal',img)\n",
    "cv2.waitKey(0)\n",
    "cv2.destroyAllWindows()"
   ]
  },
  {
   "cell_type": "markdown",
   "id": "08e37bb5",
   "metadata": {},
   "source": [
    "## Control Brigtness of Images"
   ]
  },
  {
   "cell_type": "code",
   "execution_count": 8,
   "id": "b2b06f04",
   "metadata": {},
   "outputs": [],
   "source": [
    "def nothing(x):\n",
    "    pass\n",
    "\n",
    "cv2.namedWindow('Brigtness Control')\n",
    "bright= cv2.createTrackbar('Brightness','Brigtness Control',127,255,nothing)\n",
    "value=np.ones_like(img, dtype='uint8')\n",
    "\n",
    "while True:\n",
    "    bright=cv2.getTrackbarPos('Brightness','Brigtness Control')\n",
    "    bar=bright-127\n",
    "    \n",
    "    if bar>=0:\n",
    "        value=np.ones_like(img, dtype='uint8')*bar\n",
    "        img_ctrl=cv2.add(img,value)\n",
    "    else:\n",
    "        bright=127-bright\n",
    "        img_ctrl=cv2.subtract(img,bright)\n",
    "        \n",
    "    cv2.imshow('Brigtness Control',img_ctrl)\n",
    "    \n",
    "    if cv2.waitKey(1) == 27: # esc button\n",
    "        break\n",
    "        \n",
    "cv2.destroyAllWindows()\n",
    "    "
   ]
  },
  {
   "cell_type": "markdown",
   "id": "35ebb13e",
   "metadata": {},
   "source": [
    "## Apply to Videos"
   ]
  },
  {
   "cell_type": "code",
   "execution_count": 14,
   "id": "559e3464",
   "metadata": {},
   "outputs": [],
   "source": [
    "def brightness_ctrl(image,bright):\n",
    "    \n",
    "    \n",
    "    bar=bright-127\n",
    "    \n",
    "    if bar>=0:\n",
    "        value=np.ones_like(image, dtype='uint8')*bar\n",
    "        img_ctrl=cv2.add(image,value)\n",
    "    else:\n",
    "        bright=127-bright\n",
    "        img_ctrl=cv2.subtract(image,bright)\n",
    "        \n",
    "    return img_ctrl"
   ]
  },
  {
   "cell_type": "code",
   "execution_count": 15,
   "id": "29457d25",
   "metadata": {},
   "outputs": [],
   "source": [
    "cap=cv2.VideoCapture('./images/clip.mp4')\n",
    "cv2.namedWindow('Brigtness Control')\n",
    "bright= cv2.createTrackbar('Brightness','Brigtness Control',127,255,nothing)\n",
    "#value=np.ones_like(img, dtype='uint8')\n",
    "\n",
    "while True:\n",
    "    ret,frame= cap.read()\n",
    "    if ret == False:\n",
    "        break\n",
    "        \n",
    "    bright=cv2.getTrackbarPos('Brightness','Brigtness Control')\n",
    "    \n",
    "    img_ctrl=brightness_ctrl(frame,bright)\n",
    "    \n",
    "    cv2.imshow('Brigtness Control',img_ctrl)\n",
    "    if cv2.waitKey(41) == 27:   # esc button\n",
    "        break\n",
    "    \n",
    "cv2.destroyAllWindows()\n",
    "cap.release()\n",
    "           "
   ]
  }
 ],
 "metadata": {
  "kernelspec": {
   "display_name": "Python 3",
   "language": "python",
   "name": "python3"
  },
  "language_info": {
   "codemirror_mode": {
    "name": "ipython",
    "version": 3
   },
   "file_extension": ".py",
   "mimetype": "text/x-python",
   "name": "python",
   "nbconvert_exporter": "python",
   "pygments_lexer": "ipython3",
   "version": "3.8.8"
  }
 },
 "nbformat": 4,
 "nbformat_minor": 5
}
