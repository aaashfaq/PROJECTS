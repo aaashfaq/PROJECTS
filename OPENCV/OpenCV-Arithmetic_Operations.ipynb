{
 "cells": [
  {
   "cell_type": "code",
   "execution_count": 9,
   "id": "dc5aafe7",
   "metadata": {},
   "outputs": [],
   "source": [
    "import numpy as np\n",
    "import cv2\n",
    "import os"
   ]
  },
  {
   "cell_type": "code",
   "execution_count": 3,
   "id": "6eea8752",
   "metadata": {},
   "outputs": [
    {
     "data": {
      "text/plain": [
       "'C:\\\\Users\\\\osama'"
      ]
     },
     "execution_count": 3,
     "metadata": {},
     "output_type": "execute_result"
    }
   ],
   "source": [
    "os.getcwd()"
   ]
  },
  {
   "cell_type": "code",
   "execution_count": 4,
   "id": "76ecbb79",
   "metadata": {},
   "outputs": [],
   "source": [
    "os.chdir('C:/Digital Engineering/openCV/05_Arithmetic_Operations')"
   ]
  },
  {
   "cell_type": "code",
   "execution_count": 5,
   "id": "d9dd8bf2",
   "metadata": {},
   "outputs": [],
   "source": [
    "img=cv2.imread('./images/car.jpg')"
   ]
  },
  {
   "cell_type": "code",
   "execution_count": 8,
   "id": "8e99d187",
   "metadata": {},
   "outputs": [],
   "source": [
    "cv2.imshow('orignal',img)\n",
    "cv2.waitKey(0)\n",
    "cv2.destroyAllWindows()"
   ]
  },
  {
   "cell_type": "markdown",
   "id": "93ed07a5",
   "metadata": {},
   "source": [
    "## Addition"
   ]
  },
  {
   "cell_type": "code",
   "execution_count": 15,
   "id": "774e8c7f",
   "metadata": {},
   "outputs": [],
   "source": [
    "value=np.ones_like(img, dtype='uint8')*100"
   ]
  },
  {
   "cell_type": "code",
   "execution_count": 16,
   "id": "ef49653a",
   "metadata": {},
   "outputs": [],
   "source": [
    "cv2.imshow('value',value)\n",
    "cv2.waitKey(0)\n",
    "cv2.destroyAllWindows()"
   ]
  },
  {
   "cell_type": "code",
   "execution_count": 17,
   "id": "df48aa59",
   "metadata": {},
   "outputs": [],
   "source": [
    "img_add=cv2.add(img,value)"
   ]
  },
  {
   "cell_type": "code",
   "execution_count": 18,
   "id": "4539e35e",
   "metadata": {},
   "outputs": [],
   "source": [
    "cv2.imshow('addition',img_add)\n",
    "cv2.imshow('orignal',img)\n",
    "cv2.waitKey(0)\n",
    "cv2.destroyAllWindows()"
   ]
  },
  {
   "cell_type": "markdown",
   "id": "235002c7",
   "metadata": {},
   "source": [
    "## Subtraction"
   ]
  },
  {
   "cell_type": "code",
   "execution_count": 20,
   "id": "5dd1be58",
   "metadata": {},
   "outputs": [],
   "source": [
    "value= np.ones_like(img, dtype='uint8')*75"
   ]
  },
  {
   "cell_type": "code",
   "execution_count": 21,
   "id": "6716e4de",
   "metadata": {},
   "outputs": [],
   "source": [
    "img_sub=cv2.subtract(img,value)"
   ]
  },
  {
   "cell_type": "code",
   "execution_count": 22,
   "id": "ee10a0a0",
   "metadata": {},
   "outputs": [],
   "source": [
    "cv2.imshow('subtraction',img_sub)\n",
    "cv2.imshow('orignal',img)\n",
    "cv2.waitKey(0)\n",
    "cv2.destroyAllWindows()"
   ]
  },
  {
   "cell_type": "markdown",
   "id": "95b24e0a",
   "metadata": {},
   "source": [
    "## Blending Image"
   ]
  },
  {
   "cell_type": "code",
   "execution_count": 24,
   "id": "824978bd",
   "metadata": {},
   "outputs": [],
   "source": [
    "img1=cv2.imread('./images/blend_1.jpg')\n",
    "img2=cv2.imread('./images/blend_2.jpg')"
   ]
  },
  {
   "cell_type": "code",
   "execution_count": 25,
   "id": "e5098e85",
   "metadata": {},
   "outputs": [],
   "source": [
    "blend=cv2.addWeighted(img1,0.5,img2,0.5,40)"
   ]
  },
  {
   "cell_type": "code",
   "execution_count": 28,
   "id": "39dde0ae",
   "metadata": {},
   "outputs": [],
   "source": [
    "cv2.imshow('blended',blend)\n",
    "cv2.imshow('orignal1',img1)\n",
    "cv2.imshow('orignal2',img2)\n",
    "cv2.waitKey(0)\n",
    "cv2.destroyAllWindows()"
   ]
  },
  {
   "cell_type": "code",
   "execution_count": 30,
   "id": "883f162b",
   "metadata": {},
   "outputs": [
    {
     "data": {
      "text/plain": [
       "True"
      ]
     },
     "execution_count": 30,
     "metadata": {},
     "output_type": "execute_result"
    }
   ],
   "source": [
    "cv2.imwrite('./images/blending.jpg',blend)"
   ]
  },
  {
   "cell_type": "code",
   "execution_count": null,
   "id": "f745a4e7",
   "metadata": {},
   "outputs": [],
   "source": []
  }
 ],
 "metadata": {
  "kernelspec": {
   "display_name": "Python 3",
   "language": "python",
   "name": "python3"
  },
  "language_info": {
   "codemirror_mode": {
    "name": "ipython",
    "version": 3
   },
   "file_extension": ".py",
   "mimetype": "text/x-python",
   "name": "python",
   "nbconvert_exporter": "python",
   "pygments_lexer": "ipython3",
   "version": "3.8.8"
  }
 },
 "nbformat": 4,
 "nbformat_minor": 5
}
