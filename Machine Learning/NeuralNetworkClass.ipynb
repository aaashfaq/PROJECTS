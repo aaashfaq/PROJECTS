{
 "cells": [
  {
   "cell_type": "code",
   "execution_count": 67,
   "id": "solved-johnson",
   "metadata": {},
   "outputs": [],
   "source": [
    "import pandas as pd\n",
    "import numpy as np\n",
    "from sklearn.model_selection import train_test_split\n"
   ]
  },
  {
   "cell_type": "code",
   "execution_count": 68,
   "id": "informal-balance",
   "metadata": {},
   "outputs": [
    {
     "data": {
      "text/html": [
       "<div>\n",
       "<style scoped>\n",
       "    .dataframe tbody tr th:only-of-type {\n",
       "        vertical-align: middle;\n",
       "    }\n",
       "\n",
       "    .dataframe tbody tr th {\n",
       "        vertical-align: top;\n",
       "    }\n",
       "\n",
       "    .dataframe thead th {\n",
       "        text-align: right;\n",
       "    }\n",
       "</style>\n",
       "<table border=\"1\" class=\"dataframe\">\n",
       "  <thead>\n",
       "    <tr style=\"text-align: right;\">\n",
       "      <th></th>\n",
       "      <th>age</th>\n",
       "      <th>affordibility</th>\n",
       "      <th>bought_insurance</th>\n",
       "    </tr>\n",
       "  </thead>\n",
       "  <tbody>\n",
       "    <tr>\n",
       "      <th>0</th>\n",
       "      <td>22</td>\n",
       "      <td>1</td>\n",
       "      <td>0</td>\n",
       "    </tr>\n",
       "    <tr>\n",
       "      <th>1</th>\n",
       "      <td>25</td>\n",
       "      <td>0</td>\n",
       "      <td>0</td>\n",
       "    </tr>\n",
       "    <tr>\n",
       "      <th>2</th>\n",
       "      <td>47</td>\n",
       "      <td>1</td>\n",
       "      <td>1</td>\n",
       "    </tr>\n",
       "    <tr>\n",
       "      <th>3</th>\n",
       "      <td>52</td>\n",
       "      <td>0</td>\n",
       "      <td>0</td>\n",
       "    </tr>\n",
       "    <tr>\n",
       "      <th>4</th>\n",
       "      <td>46</td>\n",
       "      <td>1</td>\n",
       "      <td>1</td>\n",
       "    </tr>\n",
       "  </tbody>\n",
       "</table>\n",
       "</div>"
      ],
      "text/plain": [
       "   age  affordibility  bought_insurance\n",
       "0   22              1                 0\n",
       "1   25              0                 0\n",
       "2   47              1                 1\n",
       "3   52              0                 0\n",
       "4   46              1                 1"
      ]
     },
     "execution_count": 68,
     "metadata": {},
     "output_type": "execute_result"
    }
   ],
   "source": [
    "df=pd.read_csv('insurance_data.txt')\n",
    "df.head()"
   ]
  },
  {
   "cell_type": "code",
   "execution_count": 69,
   "id": "included-escape",
   "metadata": {},
   "outputs": [],
   "source": [
    "X_train,X_test,y_train,y_test=train_test_split(df[['age','affordibility']],df.bought_insurance,test_size=0.2,random_state=25)\n",
    "X_train_scaled = X_train.copy()\n",
    "X_train_scaled['age'] = X_train_scaled['age'] / 100\n",
    "\n",
    "X_test_scaled = X_test.copy()\n",
    "X_test_scaled['age'] = X_test_scaled['age'] / 100"
   ]
  },
  {
   "cell_type": "code",
   "execution_count": 70,
   "id": "advised-fever",
   "metadata": {},
   "outputs": [],
   "source": [
    "def sigmoid_numpy(X):\n",
    "    return 1/(1+np.exp(-X))"
   ]
  },
  {
   "cell_type": "code",
   "execution_count": 71,
   "id": "moving-syndrome",
   "metadata": {},
   "outputs": [],
   "source": [
    "def logloss(y_true,y_predicted):\n",
    "    epsilon=1e-15\n",
    "    y_predicted_new=[max(i,epsilon) for i in y_predicted]\n",
    "    y_predicted_new=[min(i,1-epsilon) for i in y_predicted_new]\n",
    "    y_predicted_new=np.array(y_predicted_new)\n",
    "    \n",
    "    return -np.mean(y_true*np.log(y_predicted_new)+(1-y_true)*np.log(1-y_predicted_new))"
   ]
  },
  {
   "cell_type": "code",
   "execution_count": 72,
   "id": "sustainable-walker",
   "metadata": {},
   "outputs": [],
   "source": [
    "class myNN:\n",
    "    def __init__(self):\n",
    "        self.w1=1\n",
    "        self.w2=1\n",
    "        self.bias=0\n",
    "    def sigmoid_numpy(X):\n",
    "        return 1/1+np.exp(-X)\n",
    "        \n",
    "    def fit(self,X,y,epochs,loss_threshold):\n",
    "        self.w1,self.w2,self.bias=self.gradient_descent(X['age'],X['affordibility'],y,epochs,loss_threshold)\n",
    "    \n",
    "    def predict(self,X_test):\n",
    "        weighted_sum=self.w1*X_test['age']+self.w2*X_test['affordibility']+self.bias\n",
    "        return sigmoid_numpy(weighted_sum)\n",
    "    \n",
    "    def gradient_descent(self,age,affordability,y_true,epochs,loss_threshold):\n",
    "        #w1,w2,bias\n",
    "        w1=w2=1\n",
    "        bias=0\n",
    "        rate=0.5\n",
    "        n=len(age)\n",
    "\n",
    "        for i in range(epochs):\n",
    "            weighted_sum=age*w1+affordability*w2+bias\n",
    "            y_predicted=sigmoid_numpy(weighted_sum)\n",
    "\n",
    "            loss=logloss(y_true,y_predicted)\n",
    "\n",
    "            w1d=(1/n)*np.dot(np.transpose(age),(y_predicted-y_true))\n",
    "            w2d=(1/n)*np.dot(np.transpose(affordability),(y_predicted-y_true))\n",
    "\n",
    "            bias_d=np.mean(y_predicted-y_true)\n",
    "\n",
    "            w1=w1-rate*w1d\n",
    "            w2=w2-rate*w2d\n",
    "            bias=bias-rate*bias_d\n",
    "            \n",
    "            \n",
    "            if i%50==0:\n",
    "                print(f'Epoch:{i},w1:{w1},w2:{w2},bias:{bias},loss:{loss}')\n",
    "\n",
    "\n",
    "            if loss<=loss_threshold:\n",
    "                break\n",
    "\n",
    "\n",
    "\n",
    "        return w1,w2,bias\n",
    "    \n",
    "\n",
    "        "
   ]
  },
  {
   "cell_type": "code",
   "execution_count": 73,
   "id": "critical-chicken",
   "metadata": {},
   "outputs": [
    {
     "name": "stdout",
     "output_type": "stream",
     "text": [
      "Epoch:0,w1:0.974907633470177,w2:0.948348125394529,bias:-0.11341867736368583,loss:0.7113403233723417\n",
      "Epoch:50,w1:1.503319554173139,w2:1.108384790367645,bias:-1.2319047301235464,loss:0.5675865113475955\n",
      "Epoch:100,w1:2.2007131317600317,w2:1.2941584023238906,bias:-1.6607009122062801,loss:0.5390680417774752\n",
      "Epoch:150,w1:2.8495727769689077,w2:1.369689549157275,bias:-1.986105845859897,loss:0.5176462164249294\n",
      "Epoch:200,w1:3.443016970881803,w2:1.4042218624465033,bias:-2.2571369883752723,loss:0.5005011269691375\n",
      "Epoch:250,w1:3.982450494649576,w2:1.4239127329321233,bias:-2.494377365971801,loss:0.48654089537617085\n",
      "Epoch:300,w1:4.472179522095915,w2:1.438787986553552,bias:-2.707387811922373,loss:0.4750814640632793\n",
      "Epoch:350,w1:4.917245868007634,w2:1.4525660781176122,bias:-2.901176333556766,loss:0.46561475306999006\n"
     ]
    }
   ],
   "source": [
    "customModel=myNN()\n",
    "customModel.fit(X_train_scaled,y_train,1000,0.4631)"
   ]
  },
  {
   "cell_type": "code",
   "execution_count": 74,
   "id": "greenhouse-convergence",
   "metadata": {},
   "outputs": [
    {
     "data": {
      "text/plain": [
       "2     0.705020\n",
       "10    0.355836\n",
       "21    0.161599\n",
       "11    0.477919\n",
       "14    0.725586\n",
       "9     0.828987\n",
       "dtype: float64"
      ]
     },
     "execution_count": 74,
     "metadata": {},
     "output_type": "execute_result"
    }
   ],
   "source": [
    "customModel.predict(X_test_scaled)"
   ]
  },
  {
   "cell_type": "code",
   "execution_count": null,
   "id": "spectacular-andorra",
   "metadata": {},
   "outputs": [],
   "source": []
  },
  {
   "cell_type": "code",
   "execution_count": null,
   "id": "constitutional-restriction",
   "metadata": {},
   "outputs": [],
   "source": []
  }
 ],
 "metadata": {
  "kernelspec": {
   "display_name": "Python 3",
   "language": "python",
   "name": "python3"
  },
  "language_info": {
   "codemirror_mode": {
    "name": "ipython",
    "version": 3
   },
   "file_extension": ".py",
   "mimetype": "text/x-python",
   "name": "python",
   "nbconvert_exporter": "python",
   "pygments_lexer": "ipython3",
   "version": "3.8.8"
  }
 },
 "nbformat": 4,
 "nbformat_minor": 5
}
