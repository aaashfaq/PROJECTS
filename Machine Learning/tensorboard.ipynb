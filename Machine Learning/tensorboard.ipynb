{
 "cells": [
  {
   "cell_type": "code",
   "execution_count": 1,
   "metadata": {},
   "outputs": [],
   "source": [
    "import tensorflow as tf\n",
    "from tensorflow import keras\n",
    "from matplotlib import pyplot as plt\n",
    "%matplotlib inline\n",
    "import numpy as np\n",
    "%load_ext tensorboard"
   ]
  },
  {
   "cell_type": "code",
   "execution_count": 2,
   "metadata": {},
   "outputs": [],
   "source": [
    "(X_train,y_train),(X_test,y_test)=keras.datasets.mnist.load_data()"
   ]
  },
  {
   "cell_type": "code",
   "execution_count": 3,
   "metadata": {},
   "outputs": [
    {
     "data": {
      "text/plain": [
       "60000"
      ]
     },
     "execution_count": 3,
     "metadata": {},
     "output_type": "execute_result"
    }
   ],
   "source": [
    "len(X_train)"
   ]
  },
  {
   "cell_type": "code",
   "execution_count": 4,
   "metadata": {},
   "outputs": [
    {
     "data": {
      "text/plain": [
       "(60000, 28, 28)"
      ]
     },
     "execution_count": 4,
     "metadata": {},
     "output_type": "execute_result"
    }
   ],
   "source": [
    "len(X_test)\n",
    "X_train.shape"
   ]
  },
  {
   "cell_type": "code",
   "execution_count": 5,
   "metadata": {},
   "outputs": [
    {
     "data": {
      "text/plain": [
       "array([[  0,   0,   0,   0,   0,   0,   0,   0,   0,   0,   0,   0,   0,\n",
       "          0,   0,   0,   0,   0,   0,   0,   0,   0,   0,   0,   0,   0,\n",
       "          0,   0],\n",
       "       [  0,   0,   0,   0,   0,   0,   0,   0,   0,   0,   0,   0,   0,\n",
       "          0,   0,   0,   0,   0,   0,   0,   0,   0,   0,   0,   0,   0,\n",
       "          0,   0],\n",
       "       [  0,   0,   0,   0,   0,   0,   0,   0,   0,   0,   0,   0,   0,\n",
       "          0,   0,   0,   0,   0,   0,   0,   0,   0,   0,   0,   0,   0,\n",
       "          0,   0],\n",
       "       [  0,   0,   0,   0,   0,   0,   0,   0,   0,   0,   0,   0,   0,\n",
       "          0,   0,   0,   0,   0,   0,   0,   0,   0,   0,   0,   0,   0,\n",
       "          0,   0],\n",
       "       [  0,   0,   0,   0,   0,   0,   0,   0,   0,   0,   0,   0,   0,\n",
       "          0,   0,   0,   0,   0,   0,   0,   0,   0,   0,   0,   0,   0,\n",
       "          0,   0],\n",
       "       [  0,   0,   0,   0,   0,   0,   0,   0,   0,   0,   0,   0,   3,\n",
       "         18,  18,  18, 126, 136, 175,  26, 166, 255, 247, 127,   0,   0,\n",
       "          0,   0],\n",
       "       [  0,   0,   0,   0,   0,   0,   0,   0,  30,  36,  94, 154, 170,\n",
       "        253, 253, 253, 253, 253, 225, 172, 253, 242, 195,  64,   0,   0,\n",
       "          0,   0],\n",
       "       [  0,   0,   0,   0,   0,   0,   0,  49, 238, 253, 253, 253, 253,\n",
       "        253, 253, 253, 253, 251,  93,  82,  82,  56,  39,   0,   0,   0,\n",
       "          0,   0],\n",
       "       [  0,   0,   0,   0,   0,   0,   0,  18, 219, 253, 253, 253, 253,\n",
       "        253, 198, 182, 247, 241,   0,   0,   0,   0,   0,   0,   0,   0,\n",
       "          0,   0],\n",
       "       [  0,   0,   0,   0,   0,   0,   0,   0,  80, 156, 107, 253, 253,\n",
       "        205,  11,   0,  43, 154,   0,   0,   0,   0,   0,   0,   0,   0,\n",
       "          0,   0],\n",
       "       [  0,   0,   0,   0,   0,   0,   0,   0,   0,  14,   1, 154, 253,\n",
       "         90,   0,   0,   0,   0,   0,   0,   0,   0,   0,   0,   0,   0,\n",
       "          0,   0],\n",
       "       [  0,   0,   0,   0,   0,   0,   0,   0,   0,   0,   0, 139, 253,\n",
       "        190,   2,   0,   0,   0,   0,   0,   0,   0,   0,   0,   0,   0,\n",
       "          0,   0],\n",
       "       [  0,   0,   0,   0,   0,   0,   0,   0,   0,   0,   0,  11, 190,\n",
       "        253,  70,   0,   0,   0,   0,   0,   0,   0,   0,   0,   0,   0,\n",
       "          0,   0],\n",
       "       [  0,   0,   0,   0,   0,   0,   0,   0,   0,   0,   0,   0,  35,\n",
       "        241, 225, 160, 108,   1,   0,   0,   0,   0,   0,   0,   0,   0,\n",
       "          0,   0],\n",
       "       [  0,   0,   0,   0,   0,   0,   0,   0,   0,   0,   0,   0,   0,\n",
       "         81, 240, 253, 253, 119,  25,   0,   0,   0,   0,   0,   0,   0,\n",
       "          0,   0],\n",
       "       [  0,   0,   0,   0,   0,   0,   0,   0,   0,   0,   0,   0,   0,\n",
       "          0,  45, 186, 253, 253, 150,  27,   0,   0,   0,   0,   0,   0,\n",
       "          0,   0],\n",
       "       [  0,   0,   0,   0,   0,   0,   0,   0,   0,   0,   0,   0,   0,\n",
       "          0,   0,  16,  93, 252, 253, 187,   0,   0,   0,   0,   0,   0,\n",
       "          0,   0],\n",
       "       [  0,   0,   0,   0,   0,   0,   0,   0,   0,   0,   0,   0,   0,\n",
       "          0,   0,   0,   0, 249, 253, 249,  64,   0,   0,   0,   0,   0,\n",
       "          0,   0],\n",
       "       [  0,   0,   0,   0,   0,   0,   0,   0,   0,   0,   0,   0,   0,\n",
       "          0,  46, 130, 183, 253, 253, 207,   2,   0,   0,   0,   0,   0,\n",
       "          0,   0],\n",
       "       [  0,   0,   0,   0,   0,   0,   0,   0,   0,   0,   0,   0,  39,\n",
       "        148, 229, 253, 253, 253, 250, 182,   0,   0,   0,   0,   0,   0,\n",
       "          0,   0],\n",
       "       [  0,   0,   0,   0,   0,   0,   0,   0,   0,   0,  24, 114, 221,\n",
       "        253, 253, 253, 253, 201,  78,   0,   0,   0,   0,   0,   0,   0,\n",
       "          0,   0],\n",
       "       [  0,   0,   0,   0,   0,   0,   0,   0,  23,  66, 213, 253, 253,\n",
       "        253, 253, 198,  81,   2,   0,   0,   0,   0,   0,   0,   0,   0,\n",
       "          0,   0],\n",
       "       [  0,   0,   0,   0,   0,   0,  18, 171, 219, 253, 253, 253, 253,\n",
       "        195,  80,   9,   0,   0,   0,   0,   0,   0,   0,   0,   0,   0,\n",
       "          0,   0],\n",
       "       [  0,   0,   0,   0,  55, 172, 226, 253, 253, 253, 253, 244, 133,\n",
       "         11,   0,   0,   0,   0,   0,   0,   0,   0,   0,   0,   0,   0,\n",
       "          0,   0],\n",
       "       [  0,   0,   0,   0, 136, 253, 253, 253, 212, 135, 132,  16,   0,\n",
       "          0,   0,   0,   0,   0,   0,   0,   0,   0,   0,   0,   0,   0,\n",
       "          0,   0],\n",
       "       [  0,   0,   0,   0,   0,   0,   0,   0,   0,   0,   0,   0,   0,\n",
       "          0,   0,   0,   0,   0,   0,   0,   0,   0,   0,   0,   0,   0,\n",
       "          0,   0],\n",
       "       [  0,   0,   0,   0,   0,   0,   0,   0,   0,   0,   0,   0,   0,\n",
       "          0,   0,   0,   0,   0,   0,   0,   0,   0,   0,   0,   0,   0,\n",
       "          0,   0],\n",
       "       [  0,   0,   0,   0,   0,   0,   0,   0,   0,   0,   0,   0,   0,\n",
       "          0,   0,   0,   0,   0,   0,   0,   0,   0,   0,   0,   0,   0,\n",
       "          0,   0]], dtype=uint8)"
      ]
     },
     "execution_count": 5,
     "metadata": {},
     "output_type": "execute_result"
    }
   ],
   "source": [
    "X_train[0]"
   ]
  },
  {
   "cell_type": "code",
   "execution_count": 6,
   "metadata": {},
   "outputs": [],
   "source": [
    "X_train_scaled=X_train/255\n",
    "X_test_scaled=X_test/255"
   ]
  },
  {
   "cell_type": "code",
   "execution_count": 7,
   "metadata": {},
   "outputs": [
    {
     "name": "stdout",
     "output_type": "stream",
     "text": [
      "Epoch 1/5\n",
      "   1/1875 [..............................] - ETA: 0s - loss: 2.2467 - accuracy: 0.1250WARNING:tensorflow:From C:\\Users\\osama\\anaconda3\\envs\\tensorflow\\lib\\site-packages\\tensorflow\\python\\ops\\summary_ops_v2.py:1277: stop (from tensorflow.python.eager.profiler) is deprecated and will be removed after 2020-07-01.\n",
      "Instructions for updating:\n",
      "use `tf.profiler.experimental.stop` instead.\n",
      "   2/1875 [..............................] - ETA: 1:11 - loss: 2.2621 - accuracy: 0.1094WARNING:tensorflow:Callbacks method `on_train_batch_end` is slow compared to the batch time (batch time: 0.0038s vs `on_train_batch_end` time: 0.0697s). Check your callbacks.\n",
      "1875/1875 [==============================] - 2s 1ms/step - loss: 0.2973 - accuracy: 0.9179\n",
      "Epoch 2/5\n",
      "1875/1875 [==============================] - 2s 1ms/step - loss: 0.1374 - accuracy: 0.9589\n",
      "Epoch 3/5\n",
      "1875/1875 [==============================] - 2s 857us/step - loss: 0.0982 - accuracy: 0.9701\n",
      "Epoch 4/5\n",
      "1875/1875 [==============================] - 2s 862us/step - loss: 0.0752 - accuracy: 0.9775\n",
      "Epoch 5/5\n",
      "1875/1875 [==============================] - 2s 1ms/step - loss: 0.0605 - accuracy: 0.9820\n"
     ]
    },
    {
     "data": {
      "text/plain": [
       "<tensorflow.python.keras.callbacks.History at 0x23e6f0673d0>"
      ]
     },
     "execution_count": 7,
     "metadata": {},
     "output_type": "execute_result"
    }
   ],
   "source": [
    "model=keras.Sequential([\n",
    "    keras.layers.Flatten(input_shape=(28,28)),\n",
    "    keras.layers.Dense(100,activation='relu'),\n",
    "    keras.layers.Dense(10,activation='sigmoid')\n",
    "])\n",
    "\n",
    "tb_callback=tf.keras.callbacks.TensorBoard(log_dir=\"logs/\",histogram_freq=1)\n",
    "\n",
    "model.compile(\n",
    "    optimizer='adam',\n",
    "    loss='sparse_categorical_crossentropy',\n",
    "    metrics='accuracy'\n",
    ")\n",
    "\n",
    "model.fit(X_train_scaled,y_train,epochs=5,callbacks=[tb_callback])"
   ]
  },
  {
   "cell_type": "code",
   "execution_count": 70,
   "metadata": {},
   "outputs": [
    {
     "ename": "SyntaxError",
     "evalue": "(unicode error) 'unicodeescape' codec can't decode bytes in position 2-3: truncated \\UXXXXXXXX escape (<ipython-input-70-e892a255b266>, line 1)",
     "output_type": "error",
     "traceback": [
      "\u001b[1;36m  File \u001b[1;32m\"<ipython-input-70-e892a255b266>\"\u001b[1;36m, line \u001b[1;32m1\u001b[0m\n\u001b[1;33m    logdir='C:\\Users\\osama\\logs\\train'\u001b[0m\n\u001b[1;37m           ^\u001b[0m\n\u001b[1;31mSyntaxError\u001b[0m\u001b[1;31m:\u001b[0m (unicode error) 'unicodeescape' codec can't decode bytes in position 2-3: truncated \\UXXXXXXXX escape\n"
     ]
    }
   ],
   "source": [
    "logdir='C:\\Users\\osama\\logs\\train'"
   ]
  },
  {
   "cell_type": "code",
   "execution_count": 9,
   "metadata": {},
   "outputs": [],
   "source": [
    "import os\n",
    "os.getcwd()\n",
    "os.chdir('C:\\\\Users\\\\osama\\\\logs\\\\train')"
   ]
  },
  {
   "cell_type": "code",
   "execution_count": 10,
   "metadata": {},
   "outputs": [],
   "source": [
    "logdir='C:\\\\Users\\\\osama\\\\logs\\\\train\\\\logs\\\\train'"
   ]
  },
  {
   "cell_type": "code",
   "execution_count": null,
   "metadata": {},
   "outputs": [],
   "source": []
  },
  {
   "cell_type": "code",
   "execution_count": 12,
   "metadata": {},
   "outputs": [
    {
     "data": {
      "text/plain": [
       "Reusing TensorBoard on port 6006 (pid 16756), started 2:33:39 ago. (Use '!kill 16756' to kill it.)"
      ]
     },
     "metadata": {},
     "output_type": "display_data"
    },
    {
     "data": {
      "text/html": [
       "\n",
       "      <iframe id=\"tensorboard-frame-27451151582ebdc6\" width=\"100%\" height=\"800\" frameborder=\"0\">\n",
       "      </iframe>\n",
       "      <script>\n",
       "        (function() {\n",
       "          const frame = document.getElementById(\"tensorboard-frame-27451151582ebdc6\");\n",
       "          const url = new URL(\"/\", window.location);\n",
       "          const port = 6006;\n",
       "          if (port) {\n",
       "            url.port = port;\n",
       "          }\n",
       "          frame.src = url;\n",
       "        })();\n",
       "      </script>\n",
       "    "
      ],
      "text/plain": [
       "<IPython.core.display.HTML object>"
      ]
     },
     "metadata": {},
     "output_type": "display_data"
    }
   ],
   "source": [
    "%tensorboard --logdir logs/fit"
   ]
  },
  {
   "cell_type": "code",
   "execution_count": 11,
   "metadata": {},
   "outputs": [
    {
     "name": "stdout",
     "output_type": "stream",
     "text": [
      "The tensorboard extension is already loaded. To reload it, use:\n",
      "  %reload_ext tensorboard\n"
     ]
    },
    {
     "data": {
      "text/plain": [
       "Reusing TensorBoard on port 6006 (pid 16756), started 2:32:03 ago. (Use '!kill 16756' to kill it.)"
      ]
     },
     "metadata": {},
     "output_type": "display_data"
    },
    {
     "data": {
      "text/html": [
       "\n",
       "      <iframe id=\"tensorboard-frame-cad7473bb55b65cd\" width=\"100%\" height=\"800\" frameborder=\"0\">\n",
       "      </iframe>\n",
       "      <script>\n",
       "        (function() {\n",
       "          const frame = document.getElementById(\"tensorboard-frame-cad7473bb55b65cd\");\n",
       "          const url = new URL(\"/\", window.location);\n",
       "          const port = 6006;\n",
       "          if (port) {\n",
       "            url.port = port;\n",
       "          }\n",
       "          frame.src = url;\n",
       "        })();\n",
       "      </script>\n",
       "    "
      ],
      "text/plain": [
       "<IPython.core.display.HTML object>"
      ]
     },
     "metadata": {},
     "output_type": "display_data"
    }
   ],
   "source": [
    "%load_ext tensorboard\n",
    "%tensorboard --logdir logs/fit"
   ]
  },
  {
   "cell_type": "code",
   "execution_count": 76,
   "metadata": {},
   "outputs": [
    {
     "data": {
      "text/plain": [
       "'!kill 16756'"
      ]
     },
     "execution_count": 76,
     "metadata": {},
     "output_type": "execute_result"
    }
   ],
   "source": [
    "'!kill 16756'"
   ]
  },
  {
   "cell_type": "code",
   "execution_count": 13,
   "metadata": {},
   "outputs": [
    {
     "data": {
      "text/plain": [
       "False"
      ]
     },
     "execution_count": 13,
     "metadata": {},
     "output_type": "execute_result"
    }
   ],
   "source": [
    "tf.test.is_built_with_cuda()"
   ]
  },
  {
   "cell_type": "code",
   "execution_count": 17,
   "metadata": {},
   "outputs": [
    {
     "data": {
      "text/plain": [
       "array([[[0.53084396, 0.43818506, 0.47384513],\n",
       "        [0.54663892, 0.35580866, 0.40742269],\n",
       "        [0.41256629, 0.33800047, 0.48228702],\n",
       "        [0.94138905, 0.43772877, 0.39374076],\n",
       "        [0.78525366, 0.21110158, 0.902623  ],\n",
       "        [0.44144105, 0.31161048, 0.89802368],\n",
       "        [0.13911476, 0.98533073, 0.63989648],\n",
       "        [0.0809051 , 0.9368831 , 0.31483061],\n",
       "        [0.69222814, 0.67158989, 0.28150155],\n",
       "        [0.44391092, 0.66646722, 0.46648962]],\n",
       "\n",
       "       [[0.5694035 , 0.74194852, 0.10199277],\n",
       "        [0.83213509, 0.64413023, 0.37105589],\n",
       "        [0.45689032, 0.8849366 , 0.08500101],\n",
       "        [0.49003037, 0.43386373, 0.26416425],\n",
       "        [0.91687182, 0.79216566, 0.34438142],\n",
       "        [0.39380394, 0.9492913 , 0.15649989],\n",
       "        [0.30872186, 0.57624099, 0.53502907],\n",
       "        [0.38600169, 0.6901872 , 0.82485581],\n",
       "        [0.38185417, 0.50508121, 0.82547804],\n",
       "        [0.20454801, 0.63442193, 0.68381721]],\n",
       "\n",
       "       [[0.31549219, 0.2323245 , 0.03350873],\n",
       "        [0.02876732, 0.25963452, 0.52624674],\n",
       "        [0.64943906, 0.30399996, 0.72693317],\n",
       "        [0.05875735, 0.46094817, 0.09319956],\n",
       "        [0.40988401, 0.05551807, 0.2235446 ],\n",
       "        [0.0205911 , 0.94918926, 0.39507082],\n",
       "        [0.93532106, 0.07371588, 0.39624318],\n",
       "        [0.85307688, 0.35301199, 0.13888176],\n",
       "        [0.68193494, 0.54798286, 0.91931817],\n",
       "        [0.57925496, 0.67017803, 0.82784022]],\n",
       "\n",
       "       [[0.98730346, 0.45961653, 0.18920571],\n",
       "        [0.81254793, 0.04556173, 0.99843106],\n",
       "        [0.39684655, 0.32125331, 0.455549  ],\n",
       "        [0.22207115, 0.24094922, 0.39136061],\n",
       "        [0.49325974, 0.0455045 , 0.96618825],\n",
       "        [0.81881184, 0.11243936, 0.19934753],\n",
       "        [0.44101859, 0.9500051 , 0.66412181],\n",
       "        [0.11956821, 0.82540534, 0.58566421],\n",
       "        [0.83107952, 0.84111297, 0.48992212],\n",
       "        [0.88329818, 0.79478942, 0.14465692]],\n",
       "\n",
       "       [[0.65211311, 0.87872416, 0.70908937],\n",
       "        [0.03605315, 0.9996923 , 0.02414845],\n",
       "        [0.51004701, 0.84257175, 0.78985313],\n",
       "        [0.9977185 , 0.67519694, 0.18122834],\n",
       "        [0.60130186, 0.9318062 , 0.31116314],\n",
       "        [0.44441708, 0.71643964, 0.73402707],\n",
       "        [0.74475458, 0.07406864, 0.79841186],\n",
       "        [0.67334641, 0.12771622, 0.92948292],\n",
       "        [0.67370155, 0.45368794, 0.33194971],\n",
       "        [0.62991156, 0.11154778, 0.39434262]],\n",
       "\n",
       "       [[0.23028549, 0.05417358, 0.75072351],\n",
       "        [0.3140668 , 0.77941826, 0.3688216 ],\n",
       "        [0.58951209, 0.40300855, 0.37087813],\n",
       "        [0.30230577, 0.915361  , 0.21965102],\n",
       "        [0.98087571, 0.62318711, 0.02509181],\n",
       "        [0.88209505, 0.86353463, 0.55701855],\n",
       "        [0.54638166, 0.79478766, 0.7536533 ],\n",
       "        [0.66798219, 0.18648997, 0.97171308],\n",
       "        [0.6355875 , 0.2037004 , 0.19193705],\n",
       "        [0.17706623, 0.090882  , 0.49642546]],\n",
       "\n",
       "       [[0.80554751, 0.65864415, 0.9124579 ],\n",
       "        [0.98630425, 0.98639954, 0.63516762],\n",
       "        [0.08337537, 0.66220385, 0.00502692],\n",
       "        [0.11618136, 0.27467477, 0.06495051],\n",
       "        [0.58985311, 0.62786945, 0.20620443],\n",
       "        [0.7143617 , 0.0999034 , 0.10452649],\n",
       "        [0.35798509, 0.18040451, 0.75135188],\n",
       "        [0.92486039, 0.02740469, 0.59023645],\n",
       "        [0.75497181, 0.25424225, 0.56988595],\n",
       "        [0.84233448, 0.1284331 , 0.03545228]],\n",
       "\n",
       "       [[0.15890836, 0.12676087, 0.55168736],\n",
       "        [0.42144283, 0.81755078, 0.19362245],\n",
       "        [0.37642848, 0.8928019 , 0.6609027 ],\n",
       "        [0.98159469, 0.05910319, 0.97962129],\n",
       "        [0.6357731 , 0.88472416, 0.90556811],\n",
       "        [0.53141645, 0.21767517, 0.14952974],\n",
       "        [0.33363476, 0.01026331, 0.60617711],\n",
       "        [0.97968679, 0.26406734, 0.52431135],\n",
       "        [0.45711564, 0.99101182, 0.25275665],\n",
       "        [0.53215631, 0.9638119 , 0.83789919]],\n",
       "\n",
       "       [[0.61484619, 0.27275927, 0.47595347],\n",
       "        [0.87105915, 0.90769308, 0.1735803 ],\n",
       "        [0.85124223, 0.46273939, 0.38462093],\n",
       "        [0.34030227, 0.67866289, 0.87634235],\n",
       "        [0.17052141, 0.9359531 , 0.30640099],\n",
       "        [0.19656922, 0.48883389, 0.22833982],\n",
       "        [0.31169918, 0.2948226 , 0.07662642],\n",
       "        [0.70251676, 0.87186219, 0.60243634],\n",
       "        [0.41809362, 0.78103675, 0.27178647],\n",
       "        [0.51071088, 0.60749553, 0.09034517]],\n",
       "\n",
       "       [[0.30987986, 0.46276731, 0.9363539 ],\n",
       "        [0.3862585 , 0.49139467, 0.08241587],\n",
       "        [0.96748657, 0.80623252, 0.01712905],\n",
       "        [0.56397098, 0.25348933, 0.48468431],\n",
       "        [0.62737881, 0.45187897, 0.46156279],\n",
       "        [0.63971267, 0.29104196, 0.73186857],\n",
       "        [0.97381541, 0.07453983, 0.91486829],\n",
       "        [0.31859254, 0.28816396, 0.52613667],\n",
       "        [0.86487956, 0.5692844 , 0.56354575],\n",
       "        [0.24673162, 0.33941562, 0.96456417]]])"
      ]
     },
     "execution_count": 17,
     "metadata": {},
     "output_type": "execute_result"
    }
   ],
   "source": []
  },
  {
   "cell_type": "code",
   "execution_count": null,
   "metadata": {},
   "outputs": [],
   "source": []
  }
 ],
 "metadata": {
  "kernelspec": {
   "display_name": "Python 3",
   "language": "python",
   "name": "python3"
  },
  "language_info": {
   "codemirror_mode": {
    "name": "ipython",
    "version": 3
   },
   "file_extension": ".py",
   "mimetype": "text/x-python",
   "name": "python",
   "nbconvert_exporter": "python",
   "pygments_lexer": "ipython3",
   "version": "3.8.8"
  }
 },
 "nbformat": 4,
 "nbformat_minor": 4
}
