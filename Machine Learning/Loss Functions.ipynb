{
 "cells": [
  {
   "cell_type": "code",
   "execution_count": 1,
   "id": "magnetic-growing",
   "metadata": {},
   "outputs": [],
   "source": [
    "import numpy as np\n",
    "\n",
    "y_predicted=np.array([1,1,0,0,1])\n",
    "y_true=np.array([0.30,0.7,1,0,0.5])"
   ]
  },
  {
   "cell_type": "code",
   "execution_count": 2,
   "id": "placed-fitting",
   "metadata": {},
   "outputs": [],
   "source": [
    "def mae(y_true,y_predicted):\n",
    "    total_error=0\n",
    "    for yt,yp in zip(y_true,y_predicted):\n",
    "        total_error+=abs(yt-yp)\n",
    "    print(\"Total error:\",total_error)\n",
    "\n",
    "    mae=total_error/len(y_true)\n",
    "    print(\"MAE:\",mae)\n",
    "    return mae\n",
    "    "
   ]
  },
  {
   "cell_type": "code",
   "execution_count": 3,
   "id": "destroyed-editing",
   "metadata": {},
   "outputs": [
    {
     "name": "stdout",
     "output_type": "stream",
     "text": [
      "Total error: 2.5\n",
      "MAE: 0.5\n"
     ]
    },
    {
     "data": {
      "text/plain": [
       "0.5"
      ]
     },
     "execution_count": 3,
     "metadata": {},
     "output_type": "execute_result"
    }
   ],
   "source": [
    "mae(y_true,y_predicted)"
   ]
  },
  {
   "cell_type": "code",
   "execution_count": 4,
   "id": "systematic-theater",
   "metadata": {},
   "outputs": [
    {
     "data": {
      "text/plain": [
       "array([0.7, 0.3, 1. , 0. , 0.5])"
      ]
     },
     "execution_count": 4,
     "metadata": {},
     "output_type": "execute_result"
    }
   ],
   "source": [
    "np.abs(y_true-y_predicted)"
   ]
  },
  {
   "cell_type": "code",
   "execution_count": 5,
   "id": "paperback-relations",
   "metadata": {},
   "outputs": [
    {
     "data": {
      "text/plain": [
       "0.5"
      ]
     },
     "execution_count": 5,
     "metadata": {},
     "output_type": "execute_result"
    }
   ],
   "source": [
    "np.mean(np.abs(y_true-y_predicted))"
   ]
  },
  {
   "cell_type": "code",
   "execution_count": 6,
   "id": "combined-alabama",
   "metadata": {},
   "outputs": [],
   "source": [
    "def logloss(y_true,t_preducted):\n",
    "    epsilon=1e-15\n",
    "    y_predicted_new=[max(i,epsilon) for i in y_predicted]\n",
    "    y_predicted_new=[min(i,1-epsilon) for i in y_predicted_new]\n",
    "    y_predicted_new=np.array(y_predicted_new)\n",
    "    \n",
    "    return -np.mean(y_true*np.log(y_predicted_new)+(1-y_true)*np.log(1-y_predicted_new))\n"
   ]
  },
  {
   "cell_type": "code",
   "execution_count": 7,
   "id": "ready-railway",
   "metadata": {},
   "outputs": [
    {
     "data": {
      "text/plain": [
       "17.2696280766844"
      ]
     },
     "execution_count": 7,
     "metadata": {},
     "output_type": "execute_result"
    }
   ],
   "source": [
    "logloss(y_true,y_predicted)"
   ]
  },
  {
   "cell_type": "code",
   "execution_count": 14,
   "id": "practical-physics",
   "metadata": {},
   "outputs": [
    {
     "data": {
      "text/plain": [
       "array([-0.7, -0.3,  1. ,  0. , -0.5])"
      ]
     },
     "execution_count": 14,
     "metadata": {},
     "output_type": "execute_result"
    }
   ],
   "source": [
    "error=y_true-y_predicted\n",
    "error"
   ]
  },
  {
   "cell_type": "code",
   "execution_count": 15,
   "id": "crucial-dispute",
   "metadata": {},
   "outputs": [
    {
     "data": {
      "text/plain": [
       "array([0.49, 0.09, 1.  , 0.  , 0.25])"
      ]
     },
     "execution_count": 15,
     "metadata": {},
     "output_type": "execute_result"
    }
   ],
   "source": [
    "square_error=error*error\n",
    "square_error"
   ]
  },
  {
   "cell_type": "code",
   "execution_count": 16,
   "id": "acquired-celtic",
   "metadata": {},
   "outputs": [
    {
     "data": {
      "text/plain": [
       "1.83"
      ]
     },
     "execution_count": 16,
     "metadata": {},
     "output_type": "execute_result"
    }
   ],
   "source": [
    "sse=0\n",
    "for i in square_error:\n",
    "    sse+=i\n",
    "sse"
   ]
  },
  {
   "cell_type": "code",
   "execution_count": 18,
   "id": "superb-terrace",
   "metadata": {},
   "outputs": [
    {
     "data": {
      "text/plain": [
       "0.366"
      ]
     },
     "execution_count": 18,
     "metadata": {},
     "output_type": "execute_result"
    }
   ],
   "source": [
    "mse=sse/len(y_true)\n",
    "mse"
   ]
  },
  {
   "cell_type": "code",
   "execution_count": 21,
   "id": "presidential-satin",
   "metadata": {},
   "outputs": [
    {
     "data": {
      "text/plain": [
       "0.366"
      ]
     },
     "execution_count": 21,
     "metadata": {},
     "output_type": "execute_result"
    }
   ],
   "source": [
    "np.mean(np.square(y_true-y_predicted))"
   ]
  },
  {
   "cell_type": "code",
   "execution_count": null,
   "id": "therapeutic-palestine",
   "metadata": {},
   "outputs": [],
   "source": [
    "def mse(y_true, y_predicted):\n",
    "    total_error = 0\n",
    "    for yt, yp in zip(y_true, y_predicted):\n",
    "        total_error += (yt-yp)**2\n",
    "    print(\"Total Squared Error:\",total_error)\n",
    "    mse = total_error/len(y_true)\n",
    "    print(\"Mean Squared Error:\",mse)\n",
    "    return mse"
   ]
  }
 ],
 "metadata": {
  "kernelspec": {
   "display_name": "Python 3",
   "language": "python",
   "name": "python3"
  },
  "language_info": {
   "codemirror_mode": {
    "name": "ipython",
    "version": 3
   },
   "file_extension": ".py",
   "mimetype": "text/x-python",
   "name": "python",
   "nbconvert_exporter": "python",
   "pygments_lexer": "ipython3",
   "version": "3.8.8"
  }
 },
 "nbformat": 4,
 "nbformat_minor": 5
}
